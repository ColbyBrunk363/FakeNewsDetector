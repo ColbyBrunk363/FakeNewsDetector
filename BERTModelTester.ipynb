{
 "cells": [
  {
   "cell_type": "markdown",
   "id": "402ea989-a816-4bf2-b473-f0244b1b7098",
   "metadata": {},
   "source": [
    "# Model Testing"
   ]
  },
  {
   "cell_type": "markdown",
   "id": "fde1fdb2-f501-4c6e-af93-3683cb7bc1a1",
   "metadata": {},
   "source": [
    "## Import Model and Dataset"
   ]
  },
  {
   "cell_type": "code",
   "execution_count": 15,
   "id": "c3788466-d961-4a44-bce9-7bcfee67c0ad",
   "metadata": {},
   "outputs": [],
   "source": [
    "# Model and dataset\n",
    "from transformers import BertTokenizer, BertForSequenceClassification\n",
    "import torch\n",
    "\n",
    "model_path = \"fake_news_bert_model_full_freeze\"\n",
    "\n",
    "tokenizer = BertTokenizer.from_pretrained(model_path)\n",
    "model = BertForSequenceClassification.from_pretrained(model_path)\n",
    "\n",
    "# Move model to GPU\n",
    "device = torch.device(\"cuda\" if torch.cuda.is_available() else \"cpu\")\n",
    "model.to(device)\n",
    "\n",
    "\n",
    "# Dataset\n",
    "import pandas as pd\n",
    "from sklearn.model_selection import train_test_split\n",
    "\n",
    "# Load CSVs\n",
    "fake_df = pd.read_csv(r\"C:\\Users\\colby\\OneDrive\\Desktop\\School\\Capstone\\FakeNewsDataset.csv\", usecols=[\"title\", \"text\"])\n",
    "real_df = pd.read_csv(r\"C:\\Users\\colby\\OneDrive\\Desktop\\School\\Capstone\\RealNewsDataset.csv\", usecols=[\"title\", \"text\"])\n",
    "\n",
    "# Add labels\n",
    "fake_df[\"label\"] = 0\n",
    "real_df[\"label\"] = 1\n",
    "\n",
    "# Combine and shuffle\n",
    "df = pd.concat([fake_df, real_df]).sample(frac=1).reset_index(drop=True)\n",
    "\n",
    "# Combine title and text\n",
    "df[\"content\"] = df[\"title\"] + \" \" + df[\"text\"]\n",
    "df = df[[\"content\", \"label\"]]\n",
    "\n"
   ]
  },
  {
   "cell_type": "markdown",
   "id": "f2a5a28c-bc51-4d4a-afa5-0095ee5e3e61",
   "metadata": {},
   "source": [
    "## Testing Dataset"
   ]
  },
  {
   "cell_type": "code",
   "execution_count": 16,
   "id": "e318bf20-b987-406a-ae26-812c47cc039c",
   "metadata": {},
   "outputs": [],
   "source": [
    "# Split into train and validation\n",
    "train_texts, val_texts, train_labels, val_labels = train_test_split(\n",
    "    df[\"content\"].tolist(),\n",
    "    df[\"label\"].tolist(),\n",
    "    test_size=0.2,\n",
    "    random_state=42\n",
    ")"
   ]
  },
  {
   "cell_type": "code",
   "execution_count": 17,
   "id": "d929b048-d11e-4717-86fd-1fedde091e07",
   "metadata": {},
   "outputs": [],
   "source": [
    "def predict_fake_news(text):\n",
    "    inputs = tokenizer(text, return_tensors=\"pt\", truncation=True, padding=True, max_length=512).to(model.device)\n",
    "    with torch.no_grad():\n",
    "        outputs = model(**inputs)\n",
    "    logits = outputs.logits\n",
    "    predicted_class = logits.argmax(-1).item()\n",
    "    return predicted_class"
   ]
  },
  {
   "cell_type": "code",
   "execution_count": 18,
   "id": "5ce65b80-4ba5-4b68-b999-3cac309d2676",
   "metadata": {},
   "outputs": [],
   "source": [
    "def prepare_input(title, text):\n",
    "    return f\"{title} {text}\""
   ]
  },
  {
   "cell_type": "code",
   "execution_count": 19,
   "id": "f35cc89e-b01f-4598-bc28-99130a11acda",
   "metadata": {},
   "outputs": [
    {
     "name": "stdout",
     "output_type": "stream",
     "text": [
      "Prediction (Real Example): 1\n"
     ]
    }
   ],
   "source": [
    "real_title = \"NASA Announces Successful Launch of Artemis I\"\n",
    "real_text = \"The uncrewed mission marks the beginning of a new era in lunar exploration. NASA's Artemis I successfully launched from Kennedy Space Center.\"\n",
    "real_input = prepare_input(real_title, real_text)\n",
    "print(\"Prediction (Real Example):\", predict_fake_news(real_input))\n"
   ]
  },
  {
   "cell_type": "code",
   "execution_count": 20,
   "id": "f73fe33f-3463-4658-8933-4b150eb3f62f",
   "metadata": {},
   "outputs": [
    {
     "name": "stdout",
     "output_type": "stream",
     "text": [
      "Prediction (Fake Example): 1\n"
     ]
    }
   ],
   "source": [
    "fake_title = \"Aliens Land in New York, Greet Citizens with Pizza\"\n",
    "fake_text = \"Reports confirm that a UFO landed in Central Park. Witnesses say the aliens offered pepperoni pizza as a sign of peace.\"\n",
    "fake_input = prepare_input(fake_title, fake_text)\n",
    "print(\"Prediction (Fake Example):\", predict_fake_news(fake_input))"
   ]
  },
  {
   "cell_type": "code",
   "execution_count": 21,
   "id": "e677c2d1-52c3-47b5-87ba-d2e2f8d14298",
   "metadata": {},
   "outputs": [
    {
     "name": "stdout",
     "output_type": "stream",
     "text": [
      "Tokens in real_input: 35\n",
      "Tokens in fake_input: 34\n"
     ]
    }
   ],
   "source": [
    "def count_tokens(text):\n",
    "    return len(tokenizer.tokenize(text))\n",
    "\n",
    "print(\"Tokens in real_input:\", count_tokens(real_input))\n",
    "print(\"Tokens in fake_input:\", count_tokens(fake_input))"
   ]
  },
  {
   "cell_type": "code",
   "execution_count": 25,
   "id": "92de412a-aa98-4dbd-b0a9-1c36a189aa08",
   "metadata": {},
   "outputs": [
    {
     "name": "stdout",
     "output_type": "stream",
     "text": [
      "\n",
      "Sample #1\n",
      "Actual Label: Real\n",
      "Predicted Label: Real\n",
      "\n",
      "Sample #2\n",
      "Actual Label: Real\n",
      "Predicted Label: Real\n",
      "\n",
      "Sample #3\n",
      "Actual Label: Real\n",
      "Predicted Label: Real\n",
      "\n",
      "Sample #4\n",
      "Actual Label: Real\n",
      "Predicted Label: Real\n",
      "\n",
      "Sample #5\n",
      "Actual Label: Fake\n",
      "Predicted Label: Real\n",
      "\n",
      "Sample #6\n",
      "Actual Label: Real\n",
      "Predicted Label: Real\n",
      "\n",
      "Sample #7\n",
      "Actual Label: Fake\n",
      "Predicted Label: Real\n",
      "\n",
      "Sample #8\n",
      "Actual Label: Fake\n",
      "Predicted Label: Fake\n",
      "\n",
      "Sample #9\n",
      "Actual Label: Fake\n",
      "Predicted Label: Fake\n",
      "\n",
      "Sample #10\n",
      "Actual Label: Fake\n",
      "Predicted Label: Fake\n",
      "\n",
      "Sample #11\n",
      "Actual Label: Real\n",
      "Predicted Label: Real\n",
      "\n",
      "Sample #12\n",
      "Actual Label: Real\n",
      "Predicted Label: Real\n",
      "\n",
      "Sample #13\n",
      "Actual Label: Real\n",
      "Predicted Label: Real\n",
      "\n",
      "Sample #14\n",
      "Actual Label: Real\n",
      "Predicted Label: Real\n",
      "\n",
      "Sample #15\n",
      "Actual Label: Real\n",
      "Predicted Label: Real\n",
      "\n",
      "Sample #16\n",
      "Actual Label: Fake\n",
      "Predicted Label: Real\n",
      "\n",
      "Sample #17\n",
      "Actual Label: Real\n",
      "Predicted Label: Real\n",
      "\n",
      "Sample #18\n",
      "Actual Label: Fake\n",
      "Predicted Label: Fake\n",
      "\n",
      "Sample #19\n",
      "Actual Label: Fake\n",
      "Predicted Label: Real\n",
      "\n",
      "Sample #20\n",
      "Actual Label: Fake\n",
      "Predicted Label: Fake\n",
      "\n",
      "Sample #21\n",
      "Actual Label: Real\n",
      "Predicted Label: Real\n",
      "\n",
      "Sample #22\n",
      "Actual Label: Fake\n",
      "Predicted Label: Real\n",
      "\n",
      "Sample #23\n",
      "Actual Label: Real\n",
      "Predicted Label: Real\n",
      "\n",
      "Sample #24\n",
      "Actual Label: Fake\n",
      "Predicted Label: Fake\n",
      "\n",
      "Sample #25\n",
      "Actual Label: Real\n",
      "Predicted Label: Real\n"
     ]
    }
   ],
   "source": [
    "for i in range(25):\n",
    "    sample = val_texts[i]\n",
    "    label = val_labels[i]\n",
    "    prediction = predict_fake_news(sample)\n",
    "    print(f\"\\nSample #{i + 1}\")\n",
    "    print(\"Actual Label:\", \"Real\" if label == 1 else \"Fake\")\n",
    "    print(\"Predicted Label:\", \"Real\" if prediction == 1 else \"Fake\")"
   ]
  },
  {
   "cell_type": "code",
   "execution_count": 23,
   "id": "8e214ab6-c37b-4e0c-b425-2fd4ce789b3d",
   "metadata": {},
   "outputs": [],
   "source": [
    "def prepare_input(title, text=\"\"):\n",
    "    return f\"{title} {text}\" if text else title\n"
   ]
  },
  {
   "cell_type": "code",
   "execution_count": 43,
   "id": "94d8b065-f7af-47f2-be50-de643b625d1f",
   "metadata": {},
   "outputs": [
    {
     "name": "stdout",
     "output_type": "stream",
     "text": [
      "\n",
      " Testing Real Headlines:\n",
      "\n",
      "Pope Francis launched aggressive reforms to eliminate budget deficits and reduce spending. He assembled a high-level commission and slashed salaries and subsidies. Despite resistance, his efforts transformed Vatican financial transparency.\n",
      "→ Predicted: Real\n",
      "\n",
      "Iconic Oregon Coast town voted one of the best and most historic spots in US Astoria was ranked on two of USA Today's 2025 10Best Readers’ Choice Awards for best small towns and most historic small towns in the western United States. USA Today asked a group of industry experts to nominate their favorite small towns in the United States based on places that exhibit the best in travel, food, drink and lifestyle before presenting them to the public to vote on.\n",
      "→ Predicted: Real\n",
      "\n",
      "Border Protection agents detain 8 workers at dairy farm owned by Olympic runner's family Eight farmworkers were detained by U.S. Customs and Border Protection agents on Monday in Franklin County, Vermont, according to a spokesperson from the organization Migrant Justice. According to Migrant Justice, the arrests happened Monday afternoon. NBC5 learned that the workers who were arrested were employees at Pleasant Valley Farms in Berkshire, according to Amanda St. Pierre. The farm is owned by Mark and Amanda St. Pierre and their sons, Bradley and Jamie. They are related by marriage to Olympic runner Elle St. Pierre.\n",
      "→ Predicted: Real\n",
      "\n",
      "U.S. Economy Adds 250,000 Jobs in March, Unemployment Steady at 3.8%\n",
      "→ Predicted: Real\n",
      "\n",
      "UNICEF Launches Campaign to Provide Clean Water in Sub-Saharan Africa\n",
      "→ Predicted: Fake\n",
      "\n",
      "Biden Signs Bipartisan Infrastructure Bill into Law\n",
      "→ Predicted: Fake\n",
      "\n",
      "Tesla Reports Record Q4 Revenue as EV Demand Surges\n",
      "→ Predicted: Real\n",
      "\n",
      "Olympics 2024 to Be Hosted in Paris with Enhanced Sustainability Focus\n",
      "→ Predicted: Fake\n",
      "\n",
      "Supreme Court weighs California’s power to ban gas cars The Supreme Court on Wednesday will hear oral arguments in a high-stakes battle over California’s authority to impose stricter vehicle emissions rules than the rest of the country, a case now shaped by a Trump administration push to roll back state-led climate initiatives. At issue is whether a coalition of energy producers and royalty owners, including Diamond Alternative Energy, can sue over the Environmental Protection Agency’s 2022 decision to grant California’s Clean Air Act waiver. The waiver, reinstated under former President Joe Biden, allows the state to implement stricter vehicle emissions standards to boost the electric vehicle industry. \n",
      "→ Predicted: Real\n",
      "\n",
      "Thousands queue to see Pope Francis’ body ahead of funeral The body of Pope Francis is lying in state in St. Peter’s Basilica, where it will remain for three days until his funeral Saturday, expected to be attended by world leaders including US President Donald Trump. His body was transferred to the basilica during a procession earlier Wednesday, and was followed by a service led by Cardinal Kevin Farrell, who holds the position of “camerlengo” (or chamberlain) tasked with making arrangements for the funeral and conclave in the weeks ahead. Francis’ coffin was laid at the Altar of the Confessio, a sacred space in front of the main tomb of St. Peter, the first pope. Cardinals in the basilica approached to view the coffin in pairs, followed shortly after by the first members of the public who paid their respects. The basilica opened to the public at 11 a.m. local time (5 a.m. ET) Wednesday and will remain open until midnight. On Thursday and Friday, it will open at 7 a.m. and close at midnight.\n",
      "→ Predicted: Real\n",
      "\n",
      "\n",
      " Testing Fake Headlines:\n",
      "\n",
      "‘Severance’ Creator Says Next Season Of Show Will Solely Be Released As TV Recaps On Vulture.com LOS ANGELES—Saying the new format would help him present the series as he had always intended, Severance creator Dan Erickson announced Monday that the TV show’s next season would be released solely as episode recaps on Vulture.com. “After some debate in the writers’ room, we concluded that 500-word write-ups in New York magazine’s pop culture section were the perfect way to continue unfolding the mystery of Lumon Industries and its severed employees,” said Erickson, admitting that it was a creative risk, but that reading the “outstanding work” already put out by Vulture‘s renowned freelancers as they summarized the show’s earlier seasons gave him confidence this would be a change for the better. “From here on out, every Friday you’ll have to turn to Vulture to get your Severance fix. Trust us here. Once you read a few of these season-three recaps, you’ll realize you won’t miss cinematography, music, lighting, sets, Ben Stiller’s directing, or even actors bringing to life the story of Mark, Gemma, Dylan, Mr. Milchick, and Helly R. All you need is the incredible work of this entertainment news website. Plus, these will have a little unanswered question section at the end, which is always fun.” Erickson added that it was difficult to part ways with Apple TV+, but Vulture had simply made the better offer.\n",
      "→ Predicted: Real\n",
      "\n",
      "RFK Jr. Flushes Nation’s Antidepressants WASHINGTON—Declaring that there was no better time for the U.S. populace to go cold turkey, Health and Human Services Secretary Robert F. Kennedy Jr. reportedly attempted to flush the nation’s antidepressants this week. “Listen, I found these in your medicine cabinet,” said Kennedy, the 71-year-old Cabinet member stunning Americans in all 50 states as he stood over the toilet flushing millions of prescriptions for fluoxetine, escitalopram, sertraline, and paroxetine down the bowl. “You don’t need these—they were only holding you back. Nuh-uh-uh, Vermont, no buts about it. Just push through the next few days, and you’ll see exactly what I’m talking about. If you still feel bad after that, try some fish oil. Trust me. Your life is about to be so much better.” At press time, reports confirmed Kennedy was frantically plunging the overflowing toilet.\n",
      "→ Predicted: Fake\n",
      "\n",
      "God Too Obsessed With Ants Right Now To Focus On Next Pope THE HEAVENS—Admitting that He had barely even noticed the leader of the Catholic Church had died, God, our Lord and Heavenly Father, announced Tuesday that He was too obsessed with ants right now to focus on the next pope. “While I want to commit to finding a successor to Pope Francis, I’m currently in kind of an ant phase right now, and it’s taking up my whole life,” said the Creator of All Things, explaining that ever since He discovered how cool the insects were, He let His duties overseeing the papal conclave fall by the wayside. “Here’s the thing. Ants look small, but they are actually super strong and can lift over 50 times their own body weight. Plus, they communicate with pheromones! I know the Catholic Church is in mourning and needs a strong, compassionate leader, blah, blah, blah, but seriously—did you know that ants actually grow their own fungus? They’re tiny little farmers. How cool is that?” Later, after reportedly suffering an unexpected ant bite, God confirmed that the next pope would be selected on the basis of how effectively he could kill insects.\n",
      "→ Predicted: Fake\n",
      "\n",
      "Even Investigators Not Sure Why They Keep Releasing Details Of Gene Hackman’s Death SANTA FE, NM—Appearing visibly giddy as they released to the public a new barrage of information about the deceased couple’s living conditions, personal lives, and private health issues, local authorities announced Friday that even they were not sure why they kept sharing details of Gene Hackman and his wife Betsy Arakawa’s deaths. “We have no idea why, but every time we find a new detail about their tragic passing, I’m like, ‘Oh my God, we have to tell everyone!’” said Ben Chavez of the Santa Fe County Sheriff’s Office, admitting that he felt compelled by a force he couldn’t understand to continue painting a timeline of the couple’s last moments, despite investigators having known for nearly two months that both died of natural causes with no evidence of foul play. “She and one of the dogs were dead for days—did we tell you that? As soon as the medical examiner said ‘hantavirus,’ it was like I physically could not hold the words in my mouth. By the way, did we show you these pictures of the rat nests? Gross, right? See, we can’t stop! We released hours of footage, and I don’t think 10 minutes passed before all these images of their cluttered, messy home were published online with a salacious headline. What a thrill! Hey, want to know what was in the fridge?” At press time, Chavez was reportedly investigating whether or not innocuous security footage of Arakawa grocery shopping the day before she likely died could be spun into evidence that she was a devil-worshipping cannibal.\n",
      "→ Predicted: Fake\n",
      "\n",
      "Financial Experts Recommend Diversifying Portfolio With Multiple Harebrained Schemes NEW YORK—Claiming it was the only way to protect one’s assets against economic volatility, a group of financial experts recommended this week that Americans diversify their portfolios with multiple harebrained schemes. “Rather than rely on a single half-baked investment, we strongly encourage people to have several cockamamie business plans to fall back on,” said J.P. Morgan financial advisor Jonathan Rattler, adding that it was important to mitigate risk through a combination of foolhardy ventures like breeding koi fish, stealing copper wire from a scrapyard, and buying a machine on Alibaba that makes lab-grown diamonds. “We suggest investing in a variety of dubious sectors, including miracle hair-growth supplements, alpaca rentals, and using outlets at public libraries to run your own bitcoin farm. Also, we know a guy who makes $2 million a year installing vending machines in local prisons. If you want, we can put you in touch.” Rattler added that Americans planning to retire by age 60 should really consider giving their brother-in-law the $10,000 he requested, because his idea to import exotic ferns was a surefire thing.\n",
      "→ Predicted: Real\n",
      "\n",
      "FBI Warns Of ‘American Dream’ Scam WASHINGTON—Noting that millions have already fallen victim to the long-running grift, the FBI warned Monday of the ‘American Dream’ scam. “Reports are coming in all across the country of Americans who were promised great prosperity and success in exchange for a lifetime of hard work, only to find themselves swindled and left with virtually nothing,” said agent Dean Winthrop, who explained that susceptible parties are made to believe that class mobility is possible simply through ability or achievement, despite the fact that innumerable social, economic, and racial barriers prevent the vast majority of U.S. citizens from attaining even marginal amounts of upward movement. “Many even travelled across the world to live in what they were calling ‘The Land Of Opportunity,’ a fictitious meritocratic society where any person can simply work their way up from the bottom. The victims, it appears, were drawn in by wild promises about equitable access to wealth, education, and home ownership, but before they knew it, they got played for suckers.” Winthrop added that they haven’t identified the scheme’s kingpin, but are investigating a number of upper-middle class white men who have suspiciously benefitted from the longtime scam.\n",
      "→ Predicted: Fake\n",
      "\n",
      "FBI Confirms Bigfoot Involvement in Area 51 Breach\n",
      "→ Predicted: Fake\n",
      "\n",
      "Government Admits Using Chemtrails to Control Weather and Minds\n",
      "→ Predicted: Fake\n",
      "\n",
      "Man Grows WiFi Antenna in Arm After 5G Booster Shot\n",
      "→ Predicted: Real\n",
      "\n",
      "Pope Francis Dead At 88 Pope Francis, the Catholic Church’s first Latin American pontiff and a leader who charmed the world with his humble style and concern for the poor, has died at the age of 88. What do you think?\n",
      "→ Predicted: Fake\n",
      "\n"
     ]
    }
   ],
   "source": [
    "test_cases = {\n",
    "    \"Real\": [\n",
    "        \"Pope Francis launched aggressive reforms to eliminate budget deficits and reduce spending. He assembled a high-level commission and slashed salaries and subsidies. Despite resistance, his efforts transformed Vatican financial transparency.\",\n",
    "        \"Iconic Oregon Coast town voted one of the best and most historic spots in US Astoria was ranked on two of USA Today's 2025 10Best Readers’ Choice Awards for best small towns and most historic small towns in the western United States. USA Today asked a group of industry experts to nominate their favorite small towns in the United States based on places that exhibit the best in travel, food, drink and lifestyle before presenting them to the public to vote on.\",\n",
    "        \"Border Protection agents detain 8 workers at dairy farm owned by Olympic runner's family Eight farmworkers were detained by U.S. Customs and Border Protection agents on Monday in Franklin County, Vermont, according to a spokesperson from the organization Migrant Justice. According to Migrant Justice, the arrests happened Monday afternoon. NBC5 learned that the workers who were arrested were employees at Pleasant Valley Farms in Berkshire, according to Amanda St. Pierre. The farm is owned by Mark and Amanda St. Pierre and their sons, Bradley and Jamie. They are related by marriage to Olympic runner Elle St. Pierre.\",\n",
    "        \"U.S. Economy Adds 250,000 Jobs in March, Unemployment Steady at 3.8%\",\n",
    "        \"UNICEF Launches Campaign to Provide Clean Water in Sub-Saharan Africa\",\n",
    "        \"Biden Signs Bipartisan Infrastructure Bill into Law\",\n",
    "        \"Tesla Reports Record Q4 Revenue as EV Demand Surges\",\n",
    "        \"Olympics 2024 to Be Hosted in Paris with Enhanced Sustainability Focus\",\n",
    "        \"Supreme Court weighs California’s power to ban gas cars The Supreme Court on Wednesday will hear oral arguments in a high-stakes battle over California’s authority to impose stricter vehicle emissions rules than the rest of the country, a case now shaped by a Trump administration push to roll back state-led climate initiatives. At issue is whether a coalition of energy producers and royalty owners, including Diamond Alternative Energy, can sue over the Environmental Protection Agency’s 2022 decision to grant California’s Clean Air Act waiver. The waiver, reinstated under former President Joe Biden, allows the state to implement stricter vehicle emissions standards to boost the electric vehicle industry. \",\n",
    "        \"Thousands queue to see Pope Francis’ body ahead of funeral The body of Pope Francis is lying in state in St. Peter’s Basilica, where it will remain for three days until his funeral Saturday, expected to be attended by world leaders including US President Donald Trump. His body was transferred to the basilica during a procession earlier Wednesday, and was followed by a service led by Cardinal Kevin Farrell, who holds the position of “camerlengo” (or chamberlain) tasked with making arrangements for the funeral and conclave in the weeks ahead. Francis’ coffin was laid at the Altar of the Confessio, a sacred space in front of the main tomb of St. Peter, the first pope. Cardinals in the basilica approached to view the coffin in pairs, followed shortly after by the first members of the public who paid their respects. The basilica opened to the public at 11 a.m. local time (5 a.m. ET) Wednesday and will remain open until midnight. On Thursday and Friday, it will open at 7 a.m. and close at midnight.\"\n",
    "    ],\n",
    "    \"Fake\": [\n",
    "        \"‘Severance’ Creator Says Next Season Of Show Will Solely Be Released As TV Recaps On Vulture.com LOS ANGELES—Saying the new format would help him present the series as he had always intended, Severance creator Dan Erickson announced Monday that the TV show’s next season would be released solely as episode recaps on Vulture.com. “After some debate in the writers’ room, we concluded that 500-word write-ups in New York magazine’s pop culture section were the perfect way to continue unfolding the mystery of Lumon Industries and its severed employees,” said Erickson, admitting that it was a creative risk, but that reading the “outstanding work” already put out by Vulture‘s renowned freelancers as they summarized the show’s earlier seasons gave him confidence this would be a change for the better. “From here on out, every Friday you’ll have to turn to Vulture to get your Severance fix. Trust us here. Once you read a few of these season-three recaps, you’ll realize you won’t miss cinematography, music, lighting, sets, Ben Stiller’s directing, or even actors bringing to life the story of Mark, Gemma, Dylan, Mr. Milchick, and Helly R. All you need is the incredible work of this entertainment news website. Plus, these will have a little unanswered question section at the end, which is always fun.” Erickson added that it was difficult to part ways with Apple TV+, but Vulture had simply made the better offer.\",\n",
    "        \"RFK Jr. Flushes Nation’s Antidepressants WASHINGTON—Declaring that there was no better time for the U.S. populace to go cold turkey, Health and Human Services Secretary Robert F. Kennedy Jr. reportedly attempted to flush the nation’s antidepressants this week. “Listen, I found these in your medicine cabinet,” said Kennedy, the 71-year-old Cabinet member stunning Americans in all 50 states as he stood over the toilet flushing millions of prescriptions for fluoxetine, escitalopram, sertraline, and paroxetine down the bowl. “You don’t need these—they were only holding you back. Nuh-uh-uh, Vermont, no buts about it. Just push through the next few days, and you’ll see exactly what I’m talking about. If you still feel bad after that, try some fish oil. Trust me. Your life is about to be so much better.” At press time, reports confirmed Kennedy was frantically plunging the overflowing toilet.\",\n",
    "        \"God Too Obsessed With Ants Right Now To Focus On Next Pope THE HEAVENS—Admitting that He had barely even noticed the leader of the Catholic Church had died, God, our Lord and Heavenly Father, announced Tuesday that He was too obsessed with ants right now to focus on the next pope. “While I want to commit to finding a successor to Pope Francis, I’m currently in kind of an ant phase right now, and it’s taking up my whole life,” said the Creator of All Things, explaining that ever since He discovered how cool the insects were, He let His duties overseeing the papal conclave fall by the wayside. “Here’s the thing. Ants look small, but they are actually super strong and can lift over 50 times their own body weight. Plus, they communicate with pheromones! I know the Catholic Church is in mourning and needs a strong, compassionate leader, blah, blah, blah, but seriously—did you know that ants actually grow their own fungus? They’re tiny little farmers. How cool is that?” Later, after reportedly suffering an unexpected ant bite, God confirmed that the next pope would be selected on the basis of how effectively he could kill insects.\",\n",
    "        \"Even Investigators Not Sure Why They Keep Releasing Details Of Gene Hackman’s Death SANTA FE, NM—Appearing visibly giddy as they released to the public a new barrage of information about the deceased couple’s living conditions, personal lives, and private health issues, local authorities announced Friday that even they were not sure why they kept sharing details of Gene Hackman and his wife Betsy Arakawa’s deaths. “We have no idea why, but every time we find a new detail about their tragic passing, I’m like, ‘Oh my God, we have to tell everyone!’” said Ben Chavez of the Santa Fe County Sheriff’s Office, admitting that he felt compelled by a force he couldn’t understand to continue painting a timeline of the couple’s last moments, despite investigators having known for nearly two months that both died of natural causes with no evidence of foul play. “She and one of the dogs were dead for days—did we tell you that? As soon as the medical examiner said ‘hantavirus,’ it was like I physically could not hold the words in my mouth. By the way, did we show you these pictures of the rat nests? Gross, right? See, we can’t stop! We released hours of footage, and I don’t think 10 minutes passed before all these images of their cluttered, messy home were published online with a salacious headline. What a thrill! Hey, want to know what was in the fridge?” At press time, Chavez was reportedly investigating whether or not innocuous security footage of Arakawa grocery shopping the day before she likely died could be spun into evidence that she was a devil-worshipping cannibal.\",\n",
    "        \"Financial Experts Recommend Diversifying Portfolio With Multiple Harebrained Schemes NEW YORK—Claiming it was the only way to protect one’s assets against economic volatility, a group of financial experts recommended this week that Americans diversify their portfolios with multiple harebrained schemes. “Rather than rely on a single half-baked investment, we strongly encourage people to have several cockamamie business plans to fall back on,” said J.P. Morgan financial advisor Jonathan Rattler, adding that it was important to mitigate risk through a combination of foolhardy ventures like breeding koi fish, stealing copper wire from a scrapyard, and buying a machine on Alibaba that makes lab-grown diamonds. “We suggest investing in a variety of dubious sectors, including miracle hair-growth supplements, alpaca rentals, and using outlets at public libraries to run your own bitcoin farm. Also, we know a guy who makes $2 million a year installing vending machines in local prisons. If you want, we can put you in touch.” Rattler added that Americans planning to retire by age 60 should really consider giving their brother-in-law the $10,000 he requested, because his idea to import exotic ferns was a surefire thing.\",\n",
    "        \"FBI Warns Of ‘American Dream’ Scam WASHINGTON—Noting that millions have already fallen victim to the long-running grift, the FBI warned Monday of the ‘American Dream’ scam. “Reports are coming in all across the country of Americans who were promised great prosperity and success in exchange for a lifetime of hard work, only to find themselves swindled and left with virtually nothing,” said agent Dean Winthrop, who explained that susceptible parties are made to believe that class mobility is possible simply through ability or achievement, despite the fact that innumerable social, economic, and racial barriers prevent the vast majority of U.S. citizens from attaining even marginal amounts of upward movement. “Many even travelled across the world to live in what they were calling ‘The Land Of Opportunity,’ a fictitious meritocratic society where any person can simply work their way up from the bottom. The victims, it appears, were drawn in by wild promises about equitable access to wealth, education, and home ownership, but before they knew it, they got played for suckers.” Winthrop added that they haven’t identified the scheme’s kingpin, but are investigating a number of upper-middle class white men who have suspiciously benefitted from the longtime scam.\",\n",
    "        \"FBI Confirms Bigfoot Involvement in Area 51 Breach\",\n",
    "        \"Government Admits Using Chemtrails to Control Weather and Minds\",\n",
    "        \"Man Grows WiFi Antenna in Arm After 5G Booster Shot\",\n",
    "        \"Pope Francis Dead At 88 Pope Francis, the Catholic Church’s first Latin American pontiff and a leader who charmed the world with his humble style and concern for the poor, has died at the age of 88. What do you think?\"\n",
    "    ]\n",
    "}\n",
    "\n",
    "# Run predictions\n",
    "for label_type, headlines in test_cases.items():\n",
    "    print(f\"\\n Testing {label_type} Headlines:\\n\")\n",
    "    for headline in headlines:\n",
    "        prediction = predict_fake_news(headline)\n",
    "        predicted_label = \"Real\" if prediction == 1 else \"Fake\"\n",
    "        print(f\"{headline}\\n→ Predicted: {predicted_label}\\n\")\n"
   ]
  },
  {
   "cell_type": "code",
   "execution_count": 11,
   "id": "0a9aae69-fb6d-4cab-9b14-a6b912d8f81b",
   "metadata": {},
   "outputs": [
    {
     "name": "stdout",
     "output_type": "stream",
     "text": [
      "              precision    recall  f1-score   support\n",
      "\n",
      "        Fake       1.00      1.00      1.00      4713\n",
      "        Real       1.00      1.00      1.00      4271\n",
      "\n",
      "    accuracy                           1.00      8984\n",
      "   macro avg       1.00      1.00      1.00      8984\n",
      "weighted avg       1.00      1.00      1.00      8984\n",
      "\n"
     ]
    }
   ],
   "source": [
    "from sklearn.metrics import classification_report\n",
    "\n",
    "# Predict on all validation texts\n",
    "predictions = [predict_fake_news(text) for text in val_texts]\n",
    "predicted_labels = [predict_fake_news(text) for text in val_texts]\n",
    "\n",
    "\n",
    "# Generate classification report\n",
    "print(classification_report(val_labels, predicted_labels, target_names=[\"Fake\", \"Real\"]))"
   ]
  },
  {
   "cell_type": "code",
   "execution_count": 12,
   "id": "a62038cd-5d60-42d5-b06e-29940259736a",
   "metadata": {},
   "outputs": [
    {
     "name": "stdout",
     "output_type": "stream",
     "text": [
      "{0, 1}\n"
     ]
    }
   ],
   "source": [
    "print(set(predicted_labels))  # Should show both 0 and 1 if it's working"
   ]
  },
  {
   "cell_type": "code",
   "execution_count": 13,
   "id": "501d8529-7344-409a-8bf0-51aba31e8e9f",
   "metadata": {},
   "outputs": [
    {
     "name": "stdout",
     "output_type": "stream",
     "text": [
      "Train distribution: Counter({0: 18789, 1: 17146})\n",
      "Val distribution: Counter({0: 4713, 1: 4271})\n"
     ]
    }
   ],
   "source": [
    "from collections import Counter\n",
    "print(\"Train distribution:\", Counter(train_labels))\n",
    "print(\"Val distribution:\", Counter(val_labels))\n"
   ]
  },
  {
   "cell_type": "code",
   "execution_count": null,
   "id": "03152c65-59c3-4fd0-b57a-6f9623127dba",
   "metadata": {},
   "outputs": [],
   "source": []
  }
 ],
 "metadata": {
  "kernelspec": {
   "display_name": "Python 3 (ipykernel)",
   "language": "python",
   "name": "python3"
  },
  "language_info": {
   "codemirror_mode": {
    "name": "ipython",
    "version": 3
   },
   "file_extension": ".py",
   "mimetype": "text/x-python",
   "name": "python",
   "nbconvert_exporter": "python",
   "pygments_lexer": "ipython3",
   "version": "3.13.3"
  }
 },
 "nbformat": 4,
 "nbformat_minor": 5
}

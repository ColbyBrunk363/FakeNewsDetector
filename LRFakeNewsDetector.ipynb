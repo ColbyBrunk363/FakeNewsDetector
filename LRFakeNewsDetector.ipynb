{
 "cells": [
  {
   "cell_type": "markdown",
   "id": "b11d3dd5-1d21-482a-b5f4-3200a45631da",
   "metadata": {},
   "source": [
    "# Fake News Detector"
   ]
  },
  {
   "cell_type": "markdown",
   "id": "47f2f5ac-3504-448d-8f20-5e92d949aae3",
   "metadata": {},
   "source": [
    "### Importing dependencies"
   ]
  },
  {
   "cell_type": "code",
   "execution_count": 1,
   "id": "12dd29a1-1164-475e-b872-9751aab79704",
   "metadata": {},
   "outputs": [],
   "source": [
    "import pandas as pd\n",
    "import numpy as np\n",
    "import re\n",
    "from nltk.corpus import stopwords\n",
    "from nltk.stem.porter import PorterStemmer\n",
    "from sklearn.feature_extraction.text import TfidfVectorizer\n",
    "from sklearn.model_selection import train_test_split\n",
    "from sklearn.linear_model import LogisticRegression\n",
    "from sklearn.metrics import accuracy_score"
   ]
  },
  {
   "cell_type": "code",
   "execution_count": 2,
   "id": "65773c7a-a29c-4ca9-85d2-60c73af30d71",
   "metadata": {},
   "outputs": [
    {
     "name": "stderr",
     "output_type": "stream",
     "text": [
      "[nltk_data] Downloading package stopwords to\n",
      "[nltk_data]     C:\\Users\\colby\\AppData\\Roaming\\nltk_data...\n",
      "[nltk_data]   Package stopwords is already up-to-date!\n"
     ]
    },
    {
     "data": {
      "text/plain": [
       "True"
      ]
     },
     "execution_count": 2,
     "metadata": {},
     "output_type": "execute_result"
    }
   ],
   "source": [
    "import nltk\n",
    "nltk.download('stopwords')"
   ]
  },
  {
   "cell_type": "code",
   "execution_count": 3,
   "id": "0f2db945-504b-435b-8609-87f95336cf6d",
   "metadata": {},
   "outputs": [
    {
     "name": "stdout",
     "output_type": "stream",
     "text": [
      "['a', 'about', 'above', 'after', 'again', 'against', 'ain', 'all', 'am', 'an', 'and', 'any', 'are', 'aren', \"aren't\", 'as', 'at', 'be', 'because', 'been', 'before', 'being', 'below', 'between', 'both', 'but', 'by', 'can', 'couldn', \"couldn't\", 'd', 'did', 'didn', \"didn't\", 'do', 'does', 'doesn', \"doesn't\", 'doing', 'don', \"don't\", 'down', 'during', 'each', 'few', 'for', 'from', 'further', 'had', 'hadn', \"hadn't\", 'has', 'hasn', \"hasn't\", 'have', 'haven', \"haven't\", 'having', 'he', \"he'd\", \"he'll\", 'her', 'here', 'hers', 'herself', \"he's\", 'him', 'himself', 'his', 'how', 'i', \"i'd\", 'if', \"i'll\", \"i'm\", 'in', 'into', 'is', 'isn', \"isn't\", 'it', \"it'd\", \"it'll\", \"it's\", 'its', 'itself', \"i've\", 'just', 'll', 'm', 'ma', 'me', 'mightn', \"mightn't\", 'more', 'most', 'mustn', \"mustn't\", 'my', 'myself', 'needn', \"needn't\", 'no', 'nor', 'not', 'now', 'o', 'of', 'off', 'on', 'once', 'only', 'or', 'other', 'our', 'ours', 'ourselves', 'out', 'over', 'own', 're', 's', 'same', 'shan', \"shan't\", 'she', \"she'd\", \"she'll\", \"she's\", 'should', 'shouldn', \"shouldn't\", \"should've\", 'so', 'some', 'such', 't', 'than', 'that', \"that'll\", 'the', 'their', 'theirs', 'them', 'themselves', 'then', 'there', 'these', 'they', \"they'd\", \"they'll\", \"they're\", \"they've\", 'this', 'those', 'through', 'to', 'too', 'under', 'until', 'up', 've', 'very', 'was', 'wasn', \"wasn't\", 'we', \"we'd\", \"we'll\", \"we're\", 'were', 'weren', \"weren't\", \"we've\", 'what', 'when', 'where', 'which', 'while', 'who', 'whom', 'why', 'will', 'with', 'won', \"won't\", 'wouldn', \"wouldn't\", 'y', 'you', \"you'd\", \"you'll\", 'your', \"you're\", 'yours', 'yourself', 'yourselves', \"you've\"]\n"
     ]
    }
   ],
   "source": [
    "# printing stopwords in english that will be removed from dataset\n",
    "print(stopwords.words('english'))"
   ]
  },
  {
   "cell_type": "markdown",
   "id": "cc39c306-539f-4e67-bec1-946e6edf3c8e",
   "metadata": {},
   "source": [
    "### Loading the dataset"
   ]
  },
  {
   "cell_type": "code",
   "execution_count": 4,
   "id": "55b0fa8b-2248-4e3f-aa1f-d4c14b497964",
   "metadata": {},
   "outputs": [
    {
     "data": {
      "text/plain": [
       "(4594, 4)"
      ]
     },
     "execution_count": 4,
     "metadata": {},
     "output_type": "execute_result"
    }
   ],
   "source": [
    "# Path to your dataset\n",
    "file_path = r'C:\\Users\\colby\\fake_real_news_dataset\\fake_and_real_news_dataset.csv'\n",
    "\n",
    "# Load the dataset into a pandas DataFrame\n",
    "newsData = pd.read_csv(file_path)\n",
    "\n",
    "# Display rows and columns of dataset\n",
    "newsData.shape"
   ]
  },
  {
   "cell_type": "code",
   "execution_count": 5,
   "id": "90c1fa97-f41b-4a1f-b27a-188614704d24",
   "metadata": {},
   "outputs": [
    {
     "data": {
      "text/html": [
       "<div>\n",
       "<style scoped>\n",
       "    .dataframe tbody tr th:only-of-type {\n",
       "        vertical-align: middle;\n",
       "    }\n",
       "\n",
       "    .dataframe tbody tr th {\n",
       "        vertical-align: top;\n",
       "    }\n",
       "\n",
       "    .dataframe thead th {\n",
       "        text-align: right;\n",
       "    }\n",
       "</style>\n",
       "<table border=\"1\" class=\"dataframe\">\n",
       "  <thead>\n",
       "    <tr style=\"text-align: right;\">\n",
       "      <th></th>\n",
       "      <th>idd</th>\n",
       "      <th>title</th>\n",
       "      <th>text</th>\n",
       "      <th>label</th>\n",
       "    </tr>\n",
       "  </thead>\n",
       "  <tbody>\n",
       "    <tr>\n",
       "      <th>0</th>\n",
       "      <td>Fq+C96tcx+</td>\n",
       "      <td>‘A target on Roe v. Wade ’: Oklahoma bill maki...</td>\n",
       "      <td>UPDATE: Gov. Fallin vetoed the bill on Friday....</td>\n",
       "      <td>REAL</td>\n",
       "    </tr>\n",
       "    <tr>\n",
       "      <th>1</th>\n",
       "      <td>bHUqK!pgmv</td>\n",
       "      <td>Study: women had to drive 4 times farther afte...</td>\n",
       "      <td>Ever since Texas laws closed about half of the...</td>\n",
       "      <td>REAL</td>\n",
       "    </tr>\n",
       "    <tr>\n",
       "      <th>2</th>\n",
       "      <td>4Y4Ubf%aTi</td>\n",
       "      <td>Trump, Clinton clash in dueling DC speeches</td>\n",
       "      <td>Donald Trump and Hillary Clinton, now at the s...</td>\n",
       "      <td>REAL</td>\n",
       "    </tr>\n",
       "    <tr>\n",
       "      <th>3</th>\n",
       "      <td>_CoY89SJ@K</td>\n",
       "      <td>Grand jury in Texas indicts activists behind P...</td>\n",
       "      <td>A Houston grand jury investigating criminal al...</td>\n",
       "      <td>REAL</td>\n",
       "    </tr>\n",
       "    <tr>\n",
       "      <th>4</th>\n",
       "      <td>+rJHoRQVLe</td>\n",
       "      <td>As Reproductive Rights Hang In The Balance, De...</td>\n",
       "      <td>WASHINGTON -- Forty-three years after the Supr...</td>\n",
       "      <td>REAL</td>\n",
       "    </tr>\n",
       "  </tbody>\n",
       "</table>\n",
       "</div>"
      ],
      "text/plain": [
       "          idd                                              title  \\\n",
       "0  Fq+C96tcx+  ‘A target on Roe v. Wade ’: Oklahoma bill maki...   \n",
       "1  bHUqK!pgmv  Study: women had to drive 4 times farther afte...   \n",
       "2  4Y4Ubf%aTi        Trump, Clinton clash in dueling DC speeches   \n",
       "3  _CoY89SJ@K  Grand jury in Texas indicts activists behind P...   \n",
       "4  +rJHoRQVLe  As Reproductive Rights Hang In The Balance, De...   \n",
       "\n",
       "                                                text label  \n",
       "0  UPDATE: Gov. Fallin vetoed the bill on Friday....  REAL  \n",
       "1  Ever since Texas laws closed about half of the...  REAL  \n",
       "2  Donald Trump and Hillary Clinton, now at the s...  REAL  \n",
       "3  A Houston grand jury investigating criminal al...  REAL  \n",
       "4  WASHINGTON -- Forty-three years after the Supr...  REAL  "
      ]
     },
     "execution_count": 5,
     "metadata": {},
     "output_type": "execute_result"
    }
   ],
   "source": [
    "# Print first 5 rows of dataset\n",
    "newsData.head()"
   ]
  },
  {
   "cell_type": "markdown",
   "id": "2e270130-2737-4c29-8b36-c2fecf41b10d",
   "metadata": {},
   "source": [
    "### Cleaning dataset to be worked with"
   ]
  },
  {
   "cell_type": "code",
   "execution_count": 6,
   "id": "0a10be0e-27d8-4a1e-b405-2641a9c7ed25",
   "metadata": {},
   "outputs": [
    {
     "name": "stderr",
     "output_type": "stream",
     "text": [
      "C:\\Users\\colby\\AppData\\Local\\Temp\\ipykernel_13224\\1477006644.py:2: FutureWarning: Downcasting behavior in `replace` is deprecated and will be removed in a future version. To retain the old behavior, explicitly call `result.infer_objects(copy=False)`. To opt-in to the future behavior, set `pd.set_option('future.no_silent_downcasting', True)`\n",
      "  newsData['label'] = newsData['label'].replace({'REAL': 0, 'FAKE': 1})\n"
     ]
    },
    {
     "data": {
      "text/html": [
       "<div>\n",
       "<style scoped>\n",
       "    .dataframe tbody tr th:only-of-type {\n",
       "        vertical-align: middle;\n",
       "    }\n",
       "\n",
       "    .dataframe tbody tr th {\n",
       "        vertical-align: top;\n",
       "    }\n",
       "\n",
       "    .dataframe thead th {\n",
       "        text-align: right;\n",
       "    }\n",
       "</style>\n",
       "<table border=\"1\" class=\"dataframe\">\n",
       "  <thead>\n",
       "    <tr style=\"text-align: right;\">\n",
       "      <th></th>\n",
       "      <th>idd</th>\n",
       "      <th>title</th>\n",
       "      <th>text</th>\n",
       "      <th>label</th>\n",
       "    </tr>\n",
       "  </thead>\n",
       "  <tbody>\n",
       "    <tr>\n",
       "      <th>0</th>\n",
       "      <td>Fq+C96tcx+</td>\n",
       "      <td>‘A target on Roe v. Wade ’: Oklahoma bill maki...</td>\n",
       "      <td>UPDATE: Gov. Fallin vetoed the bill on Friday....</td>\n",
       "      <td>0</td>\n",
       "    </tr>\n",
       "    <tr>\n",
       "      <th>1</th>\n",
       "      <td>bHUqK!pgmv</td>\n",
       "      <td>Study: women had to drive 4 times farther afte...</td>\n",
       "      <td>Ever since Texas laws closed about half of the...</td>\n",
       "      <td>0</td>\n",
       "    </tr>\n",
       "    <tr>\n",
       "      <th>2</th>\n",
       "      <td>4Y4Ubf%aTi</td>\n",
       "      <td>Trump, Clinton clash in dueling DC speeches</td>\n",
       "      <td>Donald Trump and Hillary Clinton, now at the s...</td>\n",
       "      <td>0</td>\n",
       "    </tr>\n",
       "    <tr>\n",
       "      <th>3</th>\n",
       "      <td>_CoY89SJ@K</td>\n",
       "      <td>Grand jury in Texas indicts activists behind P...</td>\n",
       "      <td>A Houston grand jury investigating criminal al...</td>\n",
       "      <td>0</td>\n",
       "    </tr>\n",
       "    <tr>\n",
       "      <th>4</th>\n",
       "      <td>+rJHoRQVLe</td>\n",
       "      <td>As Reproductive Rights Hang In The Balance, De...</td>\n",
       "      <td>WASHINGTON -- Forty-three years after the Supr...</td>\n",
       "      <td>0</td>\n",
       "    </tr>\n",
       "  </tbody>\n",
       "</table>\n",
       "</div>"
      ],
      "text/plain": [
       "          idd                                              title  \\\n",
       "0  Fq+C96tcx+  ‘A target on Roe v. Wade ’: Oklahoma bill maki...   \n",
       "1  bHUqK!pgmv  Study: women had to drive 4 times farther afte...   \n",
       "2  4Y4Ubf%aTi        Trump, Clinton clash in dueling DC speeches   \n",
       "3  _CoY89SJ@K  Grand jury in Texas indicts activists behind P...   \n",
       "4  +rJHoRQVLe  As Reproductive Rights Hang In The Balance, De...   \n",
       "\n",
       "                                                text  label  \n",
       "0  UPDATE: Gov. Fallin vetoed the bill on Friday....      0  \n",
       "1  Ever since Texas laws closed about half of the...      0  \n",
       "2  Donald Trump and Hillary Clinton, now at the s...      0  \n",
       "3  A Houston grand jury investigating criminal al...      0  \n",
       "4  WASHINGTON -- Forty-three years after the Supr...      0  "
      ]
     },
     "execution_count": 6,
     "metadata": {},
     "output_type": "execute_result"
    }
   ],
   "source": [
    "# Replace 'REAL' with 1 and 'FAKE' with 0 in the 'label' column\n",
    "newsData['label'] = newsData['label'].replace({'REAL': 0, 'FAKE': 1})\n",
    "\n",
    "# Show the updated DataFrame\n",
    "newsData.head()"
   ]
  },
  {
   "cell_type": "code",
   "execution_count": 7,
   "id": "c8cca2b7-ff03-48a9-9391-7ee240ed1fc7",
   "metadata": {},
   "outputs": [
    {
     "data": {
      "text/plain": [
       "idd      0\n",
       "title    1\n",
       "text     0\n",
       "label    0\n",
       "dtype: int64"
      ]
     },
     "execution_count": 7,
     "metadata": {},
     "output_type": "execute_result"
    }
   ],
   "source": [
    "# Checking for null values\n",
    "newsData.isnull().sum()"
   ]
  },
  {
   "cell_type": "code",
   "execution_count": 8,
   "id": "0f4a7208-7f16-48e7-aee9-f080262f2d3f",
   "metadata": {},
   "outputs": [],
   "source": [
    "# Replace null values with empty string\n",
    "newsData = newsData.fillna(' ')"
   ]
  },
  {
   "cell_type": "code",
   "execution_count": 9,
   "id": "b30543e0-52eb-49f0-ac8c-0e4b39a10bde",
   "metadata": {},
   "outputs": [
    {
     "data": {
      "text/plain": [
       "idd      0\n",
       "title    0\n",
       "text     0\n",
       "label    0\n",
       "dtype: int64"
      ]
     },
     "execution_count": 9,
     "metadata": {},
     "output_type": "execute_result"
    }
   ],
   "source": [
    "# Checking for null values\n",
    "newsData.isnull().sum()"
   ]
  },
  {
   "cell_type": "code",
   "execution_count": 10,
   "id": "ffd95193-d24f-4770-8548-49ddc7f4e9aa",
   "metadata": {},
   "outputs": [],
   "source": [
    "# Separate the article content with the label\n",
    "X = newsData.drop(columns='label', axis = 1)\n",
    "Y = newsData['label']"
   ]
  },
  {
   "cell_type": "code",
   "execution_count": 11,
   "id": "ed24c0df-f0f4-4bff-8d0e-50ace5590b13",
   "metadata": {},
   "outputs": [
    {
     "name": "stdout",
     "output_type": "stream",
     "text": [
      "             idd                                              title  \\\n",
      "0     Fq+C96tcx+  ‘A target on Roe v. Wade ’: Oklahoma bill maki...   \n",
      "1     bHUqK!pgmv  Study: women had to drive 4 times farther afte...   \n",
      "2     4Y4Ubf%aTi        Trump, Clinton clash in dueling DC speeches   \n",
      "3     _CoY89SJ@K  Grand jury in Texas indicts activists behind P...   \n",
      "4     +rJHoRQVLe  As Reproductive Rights Hang In The Balance, De...   \n",
      "...          ...                                                ...   \n",
      "4589  ukZm6JTO#x                 Russia Calls the War Party's Bluff   \n",
      "4590  yu0xKEiapJ  Bernie Sanders: The Democratic primary gave me...   \n",
      "4591  c4Y370E_9c  Pipeline Police Strip Search Native Girl, Then...   \n",
      "4592  bBbeuCUeMH  Currency Crisis: Alasdair MacLeod On The Vexed...   \n",
      "4593  vE44sWBnd9                   Paper Tiger ISIS Digs Into Mosul   \n",
      "\n",
      "                                                   text  \n",
      "0     UPDATE: Gov. Fallin vetoed the bill on Friday....  \n",
      "1     Ever since Texas laws closed about half of the...  \n",
      "2     Donald Trump and Hillary Clinton, now at the s...  \n",
      "3     A Houston grand jury investigating criminal al...  \n",
      "4     WASHINGTON -- Forty-three years after the Supr...  \n",
      "...                                                 ...  \n",
      "4589  License DMCA \\r\\nCold War 2.0 has reached unpr...  \n",
      "4590  Print \\r\\nSen. Bernie Sanders laid out the way...  \n",
      "4591  As the pressure to start construction on the D...  \n",
      "4592  Tweet Home » Gold » Gold News » Currency Crisi...  \n",
      "4593  Written by Eric Margolis   As a former soldier...  \n",
      "\n",
      "[4594 rows x 3 columns]\n"
     ]
    }
   ],
   "source": [
    "print(X)"
   ]
  },
  {
   "cell_type": "code",
   "execution_count": 12,
   "id": "a97ed8a9-f1bc-4159-8634-2e50050b9ca4",
   "metadata": {},
   "outputs": [
    {
     "name": "stdout",
     "output_type": "stream",
     "text": [
      "0       0\n",
      "1       0\n",
      "2       0\n",
      "3       0\n",
      "4       0\n",
      "       ..\n",
      "4589    1\n",
      "4590    1\n",
      "4591    1\n",
      "4592    1\n",
      "4593    1\n",
      "Name: label, Length: 4594, dtype: int64\n"
     ]
    }
   ],
   "source": [
    "print(Y)"
   ]
  },
  {
   "cell_type": "markdown",
   "id": "7207cb14-a43e-4140-9a0d-6afbc9f0b8de",
   "metadata": {},
   "source": [
    "### Stemming Procedure\n",
    "\n",
    "Process of reducing a word to its root word"
   ]
  },
  {
   "cell_type": "code",
   "execution_count": 13,
   "id": "47328be8-3dd3-485c-8072-bec6d6b410a2",
   "metadata": {},
   "outputs": [],
   "source": [
    "port_stem = PorterStemmer()"
   ]
  },
  {
   "cell_type": "code",
   "execution_count": 14,
   "id": "fdcdd3b0-3845-4999-bbc0-f394f738b684",
   "metadata": {},
   "outputs": [],
   "source": [
    "def stemming(content):\n",
    "    stemmed_content = re.sub('[^a-zA-Z]',' ', content)\n",
    "    stemmed_content = stemmed_content.lower()\n",
    "    stemmed_content = stemmed_content.split()\n",
    "    stemmed_content = [port_stem.stem(word) for word in stemmed_content if not word in stopwords.words('english')]\n",
    "    stemmed_content = ' '.join(stemmed_content)\n",
    "    return stemmed_content"
   ]
  },
  {
   "cell_type": "markdown",
   "id": "862958e7-1875-4880-b97c-af8293beef24",
   "metadata": {},
   "source": [
    "Apply and test stemming function"
   ]
  },
  {
   "cell_type": "code",
   "execution_count": 15,
   "id": "285dca5e-a14a-4cf1-8a0a-88f7c24a3654",
   "metadata": {},
   "outputs": [],
   "source": [
    "newsData['title'] = newsData['title'].apply(stemming)"
   ]
  },
  {
   "cell_type": "code",
   "execution_count": 16,
   "id": "8e440cb9-e62a-4fed-ad24-fdf41b31df32",
   "metadata": {},
   "outputs": [
    {
     "data": {
      "text/html": [
       "<div>\n",
       "<style scoped>\n",
       "    .dataframe tbody tr th:only-of-type {\n",
       "        vertical-align: middle;\n",
       "    }\n",
       "\n",
       "    .dataframe tbody tr th {\n",
       "        vertical-align: top;\n",
       "    }\n",
       "\n",
       "    .dataframe thead th {\n",
       "        text-align: right;\n",
       "    }\n",
       "</style>\n",
       "<table border=\"1\" class=\"dataframe\">\n",
       "  <thead>\n",
       "    <tr style=\"text-align: right;\">\n",
       "      <th></th>\n",
       "      <th>idd</th>\n",
       "      <th>title</th>\n",
       "      <th>text</th>\n",
       "      <th>label</th>\n",
       "    </tr>\n",
       "  </thead>\n",
       "  <tbody>\n",
       "    <tr>\n",
       "      <th>0</th>\n",
       "      <td>Fq+C96tcx+</td>\n",
       "      <td>target roe v wade oklahoma bill make feloni pe...</td>\n",
       "      <td>UPDATE: Gov. Fallin vetoed the bill on Friday....</td>\n",
       "      <td>0</td>\n",
       "    </tr>\n",
       "    <tr>\n",
       "      <th>1</th>\n",
       "      <td>bHUqK!pgmv</td>\n",
       "      <td>studi women drive time farther texa law close ...</td>\n",
       "      <td>Ever since Texas laws closed about half of the...</td>\n",
       "      <td>0</td>\n",
       "    </tr>\n",
       "    <tr>\n",
       "      <th>2</th>\n",
       "      <td>4Y4Ubf%aTi</td>\n",
       "      <td>trump clinton clash duel dc speech</td>\n",
       "      <td>Donald Trump and Hillary Clinton, now at the s...</td>\n",
       "      <td>0</td>\n",
       "    </tr>\n",
       "    <tr>\n",
       "      <th>3</th>\n",
       "      <td>_CoY89SJ@K</td>\n",
       "      <td>grand juri texa indict activist behind plan pa...</td>\n",
       "      <td>A Houston grand jury investigating criminal al...</td>\n",
       "      <td>0</td>\n",
       "    </tr>\n",
       "    <tr>\n",
       "      <th>4</th>\n",
       "      <td>+rJHoRQVLe</td>\n",
       "      <td>reproduct right hang balanc debat moder drop ball</td>\n",
       "      <td>WASHINGTON -- Forty-three years after the Supr...</td>\n",
       "      <td>0</td>\n",
       "    </tr>\n",
       "  </tbody>\n",
       "</table>\n",
       "</div>"
      ],
      "text/plain": [
       "          idd                                              title  \\\n",
       "0  Fq+C96tcx+  target roe v wade oklahoma bill make feloni pe...   \n",
       "1  bHUqK!pgmv  studi women drive time farther texa law close ...   \n",
       "2  4Y4Ubf%aTi                 trump clinton clash duel dc speech   \n",
       "3  _CoY89SJ@K  grand juri texa indict activist behind plan pa...   \n",
       "4  +rJHoRQVLe  reproduct right hang balanc debat moder drop ball   \n",
       "\n",
       "                                                text  label  \n",
       "0  UPDATE: Gov. Fallin vetoed the bill on Friday....      0  \n",
       "1  Ever since Texas laws closed about half of the...      0  \n",
       "2  Donald Trump and Hillary Clinton, now at the s...      0  \n",
       "3  A Houston grand jury investigating criminal al...      0  \n",
       "4  WASHINGTON -- Forty-three years after the Supr...      0  "
      ]
     },
     "execution_count": 16,
     "metadata": {},
     "output_type": "execute_result"
    }
   ],
   "source": [
    "newsData.head()"
   ]
  },
  {
   "cell_type": "code",
   "execution_count": 17,
   "id": "0f53ee69-b9db-404b-a7dd-7ab6b54453bd",
   "metadata": {},
   "outputs": [],
   "source": [
    "# Separate the data and label\n",
    "X = newsData['title'].values\n",
    "Y = newsData['label'].values"
   ]
  },
  {
   "cell_type": "code",
   "execution_count": 18,
   "id": "8be1d639-ce99-41c9-a5f3-a299ae502802",
   "metadata": {},
   "outputs": [
    {
     "name": "stdout",
     "output_type": "stream",
     "text": [
      "['target roe v wade oklahoma bill make feloni perform abort wait governor decis'\n",
      " 'studi women drive time farther texa law close abort clinic'\n",
      " 'trump clinton clash duel dc speech' ...\n",
      " 'pipelin polic strip search nativ girl leav nake jail overnight'\n",
      " 'currenc crisi alasdair macleod vex question dollar'\n",
      " 'paper tiger isi dig mosul']\n",
      "[0 0 0 ... 1 1 1]\n"
     ]
    }
   ],
   "source": [
    "print(X)\n",
    "print(Y)"
   ]
  },
  {
   "cell_type": "markdown",
   "id": "6a2a847f-a8d4-474e-bf9b-d35392036f46",
   "metadata": {},
   "source": [
    "### Convert text data to numerical data"
   ]
  },
  {
   "cell_type": "code",
   "execution_count": 19,
   "id": "11b106ab-9aab-4d33-82dc-bde4b154a282",
   "metadata": {},
   "outputs": [],
   "source": [
    "vectorizer = TfidfVectorizer()\n",
    "vectorizer.fit(X)\n",
    "\n",
    "X = vectorizer.transform(X)"
   ]
  },
  {
   "cell_type": "code",
   "execution_count": 20,
   "id": "a234fdb1-25e5-4c8b-a64d-2d31438f64fb",
   "metadata": {},
   "outputs": [
    {
     "name": "stdout",
     "output_type": "stream",
     "text": [
      "<Compressed Sparse Row sparse matrix of dtype 'float64'\n",
      "\twith 32663 stored elements and shape (4594, 5755)>\n",
      "  Coords\tValues\n",
      "  (0, 6)\t0.27388374911654273\n",
      "  (0, 494)\t0.22742103551531123\n",
      "  (0, 1278)\t0.2852242090323138\n",
      "  (0, 1853)\t0.3445151105577041\n",
      "  (0, 2165)\t0.2852242090323138\n",
      "  (0, 3040)\t0.19959492122240022\n",
      "  (0, 3519)\t0.31719117010539327\n",
      "  (0, 3724)\t0.2773137474635281\n",
      "  (0, 4331)\t0.3445151105577041\n",
      "  (0, 5063)\t0.2678071118389003\n",
      "  (0, 5536)\t0.3445151105577041\n",
      "  (0, 5538)\t0.25576893258694955\n",
      "  (1, 6)\t0.3142663586544497\n",
      "  (1, 940)\t0.3953119148019772\n",
      "  (1, 947)\t0.2759410546741804\n",
      "  (1, 1518)\t0.3272789052355892\n",
      "  (1, 1817)\t0.3953119148019772\n",
      "  (1, 2863)\t0.282913657744894\n",
      "  (1, 4934)\t0.3272789052355892\n",
      "  (1, 5115)\t0.3041730433810631\n",
      "  (1, 5169)\t0.23322080250692212\n",
      "  (1, 5672)\t0.2671589148613326\n",
      "  (2, 922)\t0.4422693608878315\n",
      "  (2, 941)\t0.18437185382816187\n",
      "  (2, 1253)\t0.5481191157644255\n",
      "  :\t:\n",
      "  (4590, 3933)\t0.25549490665139213\n",
      "  (4590, 4417)\t0.2125958982397718\n",
      "  (4590, 5441)\t0.2915414591646657\n",
      "  (4591, 2111)\t0.3010669580549462\n",
      "  (4591, 2641)\t0.3171871405238362\n",
      "  (4591, 2881)\t0.2760556242469538\n",
      "  (4591, 3351)\t0.36534769840046166\n",
      "  (4591, 3364)\t0.3282041691819873\n",
      "  (4591, 3605)\t0.3429543142448276\n",
      "  (4591, 3780)\t0.2741899116615719\n",
      "  (4591, 3838)\t0.24290008208688751\n",
      "  (4591, 4488)\t0.3045758405745352\n",
      "  (4591, 4925)\t0.3831223273641239\n",
      "  (4592, 115)\t0.4282203548569806\n",
      "  (4592, 1171)\t0.3044651165453389\n",
      "  (4592, 1202)\t0.39425764286551407\n",
      "  (4592, 1476)\t0.3446913871304957\n",
      "  (4592, 3017)\t0.4282203548569806\n",
      "  (4592, 4042)\t0.28797870502122463\n",
      "  (4592, 5486)\t0.4282203548569806\n",
      "  (4593, 1385)\t0.4990132403193328\n",
      "  (4593, 2620)\t0.3376029420687613\n",
      "  (4593, 3298)\t0.40238220938124575\n",
      "  (4593, 3647)\t0.45602652016924283\n",
      "  (4593, 5163)\t0.5168543411526257\n"
     ]
    }
   ],
   "source": [
    "print(X)"
   ]
  },
  {
   "cell_type": "markdown",
   "id": "06ce213d-a62d-4355-917a-b0e2af2dcdad",
   "metadata": {},
   "source": [
    "### Splitting dataset to training and test data"
   ]
  },
  {
   "cell_type": "code",
   "execution_count": 21,
   "id": "9bc87ce8-e697-4e96-ba7c-1790f4edbfc5",
   "metadata": {},
   "outputs": [],
   "source": [
    "X_train, X_test, Y_train, Y_test = train_test_split(X, Y, test_size = 0.2, stratify = Y, random_state = 2)"
   ]
  },
  {
   "cell_type": "markdown",
   "id": "404c7fa7-10e9-44a5-b24c-803ffa0b3f9d",
   "metadata": {},
   "source": [
    "### Training the model with logistic regression"
   ]
  },
  {
   "cell_type": "code",
   "execution_count": 22,
   "id": "69a3a92e-4757-4131-bc66-6b589bc57fb0",
   "metadata": {},
   "outputs": [],
   "source": [
    "model = LogisticRegression()"
   ]
  },
  {
   "cell_type": "code",
   "execution_count": 23,
   "id": "53ab7173-ece8-4fd8-b1c9-68f660cdbfe7",
   "metadata": {},
   "outputs": [
    {
     "data": {
      "text/html": [
       "<style>#sk-container-id-1 {\n",
       "  /* Definition of color scheme common for light and dark mode */\n",
       "  --sklearn-color-text: #000;\n",
       "  --sklearn-color-text-muted: #666;\n",
       "  --sklearn-color-line: gray;\n",
       "  /* Definition of color scheme for unfitted estimators */\n",
       "  --sklearn-color-unfitted-level-0: #fff5e6;\n",
       "  --sklearn-color-unfitted-level-1: #f6e4d2;\n",
       "  --sklearn-color-unfitted-level-2: #ffe0b3;\n",
       "  --sklearn-color-unfitted-level-3: chocolate;\n",
       "  /* Definition of color scheme for fitted estimators */\n",
       "  --sklearn-color-fitted-level-0: #f0f8ff;\n",
       "  --sklearn-color-fitted-level-1: #d4ebff;\n",
       "  --sklearn-color-fitted-level-2: #b3dbfd;\n",
       "  --sklearn-color-fitted-level-3: cornflowerblue;\n",
       "\n",
       "  /* Specific color for light theme */\n",
       "  --sklearn-color-text-on-default-background: var(--sg-text-color, var(--theme-code-foreground, var(--jp-content-font-color1, black)));\n",
       "  --sklearn-color-background: var(--sg-background-color, var(--theme-background, var(--jp-layout-color0, white)));\n",
       "  --sklearn-color-border-box: var(--sg-text-color, var(--theme-code-foreground, var(--jp-content-font-color1, black)));\n",
       "  --sklearn-color-icon: #696969;\n",
       "\n",
       "  @media (prefers-color-scheme: dark) {\n",
       "    /* Redefinition of color scheme for dark theme */\n",
       "    --sklearn-color-text-on-default-background: var(--sg-text-color, var(--theme-code-foreground, var(--jp-content-font-color1, white)));\n",
       "    --sklearn-color-background: var(--sg-background-color, var(--theme-background, var(--jp-layout-color0, #111)));\n",
       "    --sklearn-color-border-box: var(--sg-text-color, var(--theme-code-foreground, var(--jp-content-font-color1, white)));\n",
       "    --sklearn-color-icon: #878787;\n",
       "  }\n",
       "}\n",
       "\n",
       "#sk-container-id-1 {\n",
       "  color: var(--sklearn-color-text);\n",
       "}\n",
       "\n",
       "#sk-container-id-1 pre {\n",
       "  padding: 0;\n",
       "}\n",
       "\n",
       "#sk-container-id-1 input.sk-hidden--visually {\n",
       "  border: 0;\n",
       "  clip: rect(1px 1px 1px 1px);\n",
       "  clip: rect(1px, 1px, 1px, 1px);\n",
       "  height: 1px;\n",
       "  margin: -1px;\n",
       "  overflow: hidden;\n",
       "  padding: 0;\n",
       "  position: absolute;\n",
       "  width: 1px;\n",
       "}\n",
       "\n",
       "#sk-container-id-1 div.sk-dashed-wrapped {\n",
       "  border: 1px dashed var(--sklearn-color-line);\n",
       "  margin: 0 0.4em 0.5em 0.4em;\n",
       "  box-sizing: border-box;\n",
       "  padding-bottom: 0.4em;\n",
       "  background-color: var(--sklearn-color-background);\n",
       "}\n",
       "\n",
       "#sk-container-id-1 div.sk-container {\n",
       "  /* jupyter's `normalize.less` sets `[hidden] { display: none; }`\n",
       "     but bootstrap.min.css set `[hidden] { display: none !important; }`\n",
       "     so we also need the `!important` here to be able to override the\n",
       "     default hidden behavior on the sphinx rendered scikit-learn.org.\n",
       "     See: https://github.com/scikit-learn/scikit-learn/issues/21755 */\n",
       "  display: inline-block !important;\n",
       "  position: relative;\n",
       "}\n",
       "\n",
       "#sk-container-id-1 div.sk-text-repr-fallback {\n",
       "  display: none;\n",
       "}\n",
       "\n",
       "div.sk-parallel-item,\n",
       "div.sk-serial,\n",
       "div.sk-item {\n",
       "  /* draw centered vertical line to link estimators */\n",
       "  background-image: linear-gradient(var(--sklearn-color-text-on-default-background), var(--sklearn-color-text-on-default-background));\n",
       "  background-size: 2px 100%;\n",
       "  background-repeat: no-repeat;\n",
       "  background-position: center center;\n",
       "}\n",
       "\n",
       "/* Parallel-specific style estimator block */\n",
       "\n",
       "#sk-container-id-1 div.sk-parallel-item::after {\n",
       "  content: \"\";\n",
       "  width: 100%;\n",
       "  border-bottom: 2px solid var(--sklearn-color-text-on-default-background);\n",
       "  flex-grow: 1;\n",
       "}\n",
       "\n",
       "#sk-container-id-1 div.sk-parallel {\n",
       "  display: flex;\n",
       "  align-items: stretch;\n",
       "  justify-content: center;\n",
       "  background-color: var(--sklearn-color-background);\n",
       "  position: relative;\n",
       "}\n",
       "\n",
       "#sk-container-id-1 div.sk-parallel-item {\n",
       "  display: flex;\n",
       "  flex-direction: column;\n",
       "}\n",
       "\n",
       "#sk-container-id-1 div.sk-parallel-item:first-child::after {\n",
       "  align-self: flex-end;\n",
       "  width: 50%;\n",
       "}\n",
       "\n",
       "#sk-container-id-1 div.sk-parallel-item:last-child::after {\n",
       "  align-self: flex-start;\n",
       "  width: 50%;\n",
       "}\n",
       "\n",
       "#sk-container-id-1 div.sk-parallel-item:only-child::after {\n",
       "  width: 0;\n",
       "}\n",
       "\n",
       "/* Serial-specific style estimator block */\n",
       "\n",
       "#sk-container-id-1 div.sk-serial {\n",
       "  display: flex;\n",
       "  flex-direction: column;\n",
       "  align-items: center;\n",
       "  background-color: var(--sklearn-color-background);\n",
       "  padding-right: 1em;\n",
       "  padding-left: 1em;\n",
       "}\n",
       "\n",
       "\n",
       "/* Toggleable style: style used for estimator/Pipeline/ColumnTransformer box that is\n",
       "clickable and can be expanded/collapsed.\n",
       "- Pipeline and ColumnTransformer use this feature and define the default style\n",
       "- Estimators will overwrite some part of the style using the `sk-estimator` class\n",
       "*/\n",
       "\n",
       "/* Pipeline and ColumnTransformer style (default) */\n",
       "\n",
       "#sk-container-id-1 div.sk-toggleable {\n",
       "  /* Default theme specific background. It is overwritten whether we have a\n",
       "  specific estimator or a Pipeline/ColumnTransformer */\n",
       "  background-color: var(--sklearn-color-background);\n",
       "}\n",
       "\n",
       "/* Toggleable label */\n",
       "#sk-container-id-1 label.sk-toggleable__label {\n",
       "  cursor: pointer;\n",
       "  display: flex;\n",
       "  width: 100%;\n",
       "  margin-bottom: 0;\n",
       "  padding: 0.5em;\n",
       "  box-sizing: border-box;\n",
       "  text-align: center;\n",
       "  align-items: start;\n",
       "  justify-content: space-between;\n",
       "  gap: 0.5em;\n",
       "}\n",
       "\n",
       "#sk-container-id-1 label.sk-toggleable__label .caption {\n",
       "  font-size: 0.6rem;\n",
       "  font-weight: lighter;\n",
       "  color: var(--sklearn-color-text-muted);\n",
       "}\n",
       "\n",
       "#sk-container-id-1 label.sk-toggleable__label-arrow:before {\n",
       "  /* Arrow on the left of the label */\n",
       "  content: \"▸\";\n",
       "  float: left;\n",
       "  margin-right: 0.25em;\n",
       "  color: var(--sklearn-color-icon);\n",
       "}\n",
       "\n",
       "#sk-container-id-1 label.sk-toggleable__label-arrow:hover:before {\n",
       "  color: var(--sklearn-color-text);\n",
       "}\n",
       "\n",
       "/* Toggleable content - dropdown */\n",
       "\n",
       "#sk-container-id-1 div.sk-toggleable__content {\n",
       "  max-height: 0;\n",
       "  max-width: 0;\n",
       "  overflow: hidden;\n",
       "  text-align: left;\n",
       "  /* unfitted */\n",
       "  background-color: var(--sklearn-color-unfitted-level-0);\n",
       "}\n",
       "\n",
       "#sk-container-id-1 div.sk-toggleable__content.fitted {\n",
       "  /* fitted */\n",
       "  background-color: var(--sklearn-color-fitted-level-0);\n",
       "}\n",
       "\n",
       "#sk-container-id-1 div.sk-toggleable__content pre {\n",
       "  margin: 0.2em;\n",
       "  border-radius: 0.25em;\n",
       "  color: var(--sklearn-color-text);\n",
       "  /* unfitted */\n",
       "  background-color: var(--sklearn-color-unfitted-level-0);\n",
       "}\n",
       "\n",
       "#sk-container-id-1 div.sk-toggleable__content.fitted pre {\n",
       "  /* unfitted */\n",
       "  background-color: var(--sklearn-color-fitted-level-0);\n",
       "}\n",
       "\n",
       "#sk-container-id-1 input.sk-toggleable__control:checked~div.sk-toggleable__content {\n",
       "  /* Expand drop-down */\n",
       "  max-height: 200px;\n",
       "  max-width: 100%;\n",
       "  overflow: auto;\n",
       "}\n",
       "\n",
       "#sk-container-id-1 input.sk-toggleable__control:checked~label.sk-toggleable__label-arrow:before {\n",
       "  content: \"▾\";\n",
       "}\n",
       "\n",
       "/* Pipeline/ColumnTransformer-specific style */\n",
       "\n",
       "#sk-container-id-1 div.sk-label input.sk-toggleable__control:checked~label.sk-toggleable__label {\n",
       "  color: var(--sklearn-color-text);\n",
       "  background-color: var(--sklearn-color-unfitted-level-2);\n",
       "}\n",
       "\n",
       "#sk-container-id-1 div.sk-label.fitted input.sk-toggleable__control:checked~label.sk-toggleable__label {\n",
       "  background-color: var(--sklearn-color-fitted-level-2);\n",
       "}\n",
       "\n",
       "/* Estimator-specific style */\n",
       "\n",
       "/* Colorize estimator box */\n",
       "#sk-container-id-1 div.sk-estimator input.sk-toggleable__control:checked~label.sk-toggleable__label {\n",
       "  /* unfitted */\n",
       "  background-color: var(--sklearn-color-unfitted-level-2);\n",
       "}\n",
       "\n",
       "#sk-container-id-1 div.sk-estimator.fitted input.sk-toggleable__control:checked~label.sk-toggleable__label {\n",
       "  /* fitted */\n",
       "  background-color: var(--sklearn-color-fitted-level-2);\n",
       "}\n",
       "\n",
       "#sk-container-id-1 div.sk-label label.sk-toggleable__label,\n",
       "#sk-container-id-1 div.sk-label label {\n",
       "  /* The background is the default theme color */\n",
       "  color: var(--sklearn-color-text-on-default-background);\n",
       "}\n",
       "\n",
       "/* On hover, darken the color of the background */\n",
       "#sk-container-id-1 div.sk-label:hover label.sk-toggleable__label {\n",
       "  color: var(--sklearn-color-text);\n",
       "  background-color: var(--sklearn-color-unfitted-level-2);\n",
       "}\n",
       "\n",
       "/* Label box, darken color on hover, fitted */\n",
       "#sk-container-id-1 div.sk-label.fitted:hover label.sk-toggleable__label.fitted {\n",
       "  color: var(--sklearn-color-text);\n",
       "  background-color: var(--sklearn-color-fitted-level-2);\n",
       "}\n",
       "\n",
       "/* Estimator label */\n",
       "\n",
       "#sk-container-id-1 div.sk-label label {\n",
       "  font-family: monospace;\n",
       "  font-weight: bold;\n",
       "  display: inline-block;\n",
       "  line-height: 1.2em;\n",
       "}\n",
       "\n",
       "#sk-container-id-1 div.sk-label-container {\n",
       "  text-align: center;\n",
       "}\n",
       "\n",
       "/* Estimator-specific */\n",
       "#sk-container-id-1 div.sk-estimator {\n",
       "  font-family: monospace;\n",
       "  border: 1px dotted var(--sklearn-color-border-box);\n",
       "  border-radius: 0.25em;\n",
       "  box-sizing: border-box;\n",
       "  margin-bottom: 0.5em;\n",
       "  /* unfitted */\n",
       "  background-color: var(--sklearn-color-unfitted-level-0);\n",
       "}\n",
       "\n",
       "#sk-container-id-1 div.sk-estimator.fitted {\n",
       "  /* fitted */\n",
       "  background-color: var(--sklearn-color-fitted-level-0);\n",
       "}\n",
       "\n",
       "/* on hover */\n",
       "#sk-container-id-1 div.sk-estimator:hover {\n",
       "  /* unfitted */\n",
       "  background-color: var(--sklearn-color-unfitted-level-2);\n",
       "}\n",
       "\n",
       "#sk-container-id-1 div.sk-estimator.fitted:hover {\n",
       "  /* fitted */\n",
       "  background-color: var(--sklearn-color-fitted-level-2);\n",
       "}\n",
       "\n",
       "/* Specification for estimator info (e.g. \"i\" and \"?\") */\n",
       "\n",
       "/* Common style for \"i\" and \"?\" */\n",
       "\n",
       ".sk-estimator-doc-link,\n",
       "a:link.sk-estimator-doc-link,\n",
       "a:visited.sk-estimator-doc-link {\n",
       "  float: right;\n",
       "  font-size: smaller;\n",
       "  line-height: 1em;\n",
       "  font-family: monospace;\n",
       "  background-color: var(--sklearn-color-background);\n",
       "  border-radius: 1em;\n",
       "  height: 1em;\n",
       "  width: 1em;\n",
       "  text-decoration: none !important;\n",
       "  margin-left: 0.5em;\n",
       "  text-align: center;\n",
       "  /* unfitted */\n",
       "  border: var(--sklearn-color-unfitted-level-1) 1pt solid;\n",
       "  color: var(--sklearn-color-unfitted-level-1);\n",
       "}\n",
       "\n",
       ".sk-estimator-doc-link.fitted,\n",
       "a:link.sk-estimator-doc-link.fitted,\n",
       "a:visited.sk-estimator-doc-link.fitted {\n",
       "  /* fitted */\n",
       "  border: var(--sklearn-color-fitted-level-1) 1pt solid;\n",
       "  color: var(--sklearn-color-fitted-level-1);\n",
       "}\n",
       "\n",
       "/* On hover */\n",
       "div.sk-estimator:hover .sk-estimator-doc-link:hover,\n",
       ".sk-estimator-doc-link:hover,\n",
       "div.sk-label-container:hover .sk-estimator-doc-link:hover,\n",
       ".sk-estimator-doc-link:hover {\n",
       "  /* unfitted */\n",
       "  background-color: var(--sklearn-color-unfitted-level-3);\n",
       "  color: var(--sklearn-color-background);\n",
       "  text-decoration: none;\n",
       "}\n",
       "\n",
       "div.sk-estimator.fitted:hover .sk-estimator-doc-link.fitted:hover,\n",
       ".sk-estimator-doc-link.fitted:hover,\n",
       "div.sk-label-container:hover .sk-estimator-doc-link.fitted:hover,\n",
       ".sk-estimator-doc-link.fitted:hover {\n",
       "  /* fitted */\n",
       "  background-color: var(--sklearn-color-fitted-level-3);\n",
       "  color: var(--sklearn-color-background);\n",
       "  text-decoration: none;\n",
       "}\n",
       "\n",
       "/* Span, style for the box shown on hovering the info icon */\n",
       ".sk-estimator-doc-link span {\n",
       "  display: none;\n",
       "  z-index: 9999;\n",
       "  position: relative;\n",
       "  font-weight: normal;\n",
       "  right: .2ex;\n",
       "  padding: .5ex;\n",
       "  margin: .5ex;\n",
       "  width: min-content;\n",
       "  min-width: 20ex;\n",
       "  max-width: 50ex;\n",
       "  color: var(--sklearn-color-text);\n",
       "  box-shadow: 2pt 2pt 4pt #999;\n",
       "  /* unfitted */\n",
       "  background: var(--sklearn-color-unfitted-level-0);\n",
       "  border: .5pt solid var(--sklearn-color-unfitted-level-3);\n",
       "}\n",
       "\n",
       ".sk-estimator-doc-link.fitted span {\n",
       "  /* fitted */\n",
       "  background: var(--sklearn-color-fitted-level-0);\n",
       "  border: var(--sklearn-color-fitted-level-3);\n",
       "}\n",
       "\n",
       ".sk-estimator-doc-link:hover span {\n",
       "  display: block;\n",
       "}\n",
       "\n",
       "/* \"?\"-specific style due to the `<a>` HTML tag */\n",
       "\n",
       "#sk-container-id-1 a.estimator_doc_link {\n",
       "  float: right;\n",
       "  font-size: 1rem;\n",
       "  line-height: 1em;\n",
       "  font-family: monospace;\n",
       "  background-color: var(--sklearn-color-background);\n",
       "  border-radius: 1rem;\n",
       "  height: 1rem;\n",
       "  width: 1rem;\n",
       "  text-decoration: none;\n",
       "  /* unfitted */\n",
       "  color: var(--sklearn-color-unfitted-level-1);\n",
       "  border: var(--sklearn-color-unfitted-level-1) 1pt solid;\n",
       "}\n",
       "\n",
       "#sk-container-id-1 a.estimator_doc_link.fitted {\n",
       "  /* fitted */\n",
       "  border: var(--sklearn-color-fitted-level-1) 1pt solid;\n",
       "  color: var(--sklearn-color-fitted-level-1);\n",
       "}\n",
       "\n",
       "/* On hover */\n",
       "#sk-container-id-1 a.estimator_doc_link:hover {\n",
       "  /* unfitted */\n",
       "  background-color: var(--sklearn-color-unfitted-level-3);\n",
       "  color: var(--sklearn-color-background);\n",
       "  text-decoration: none;\n",
       "}\n",
       "\n",
       "#sk-container-id-1 a.estimator_doc_link.fitted:hover {\n",
       "  /* fitted */\n",
       "  background-color: var(--sklearn-color-fitted-level-3);\n",
       "}\n",
       "</style><div id=\"sk-container-id-1\" class=\"sk-top-container\"><div class=\"sk-text-repr-fallback\"><pre>LogisticRegression()</pre><b>In a Jupyter environment, please rerun this cell to show the HTML representation or trust the notebook. <br />On GitHub, the HTML representation is unable to render, please try loading this page with nbviewer.org.</b></div><div class=\"sk-container\" hidden><div class=\"sk-item\"><div class=\"sk-estimator fitted sk-toggleable\"><input class=\"sk-toggleable__control sk-hidden--visually\" id=\"sk-estimator-id-1\" type=\"checkbox\" checked><label for=\"sk-estimator-id-1\" class=\"sk-toggleable__label fitted sk-toggleable__label-arrow\"><div><div>LogisticRegression</div></div><div><a class=\"sk-estimator-doc-link fitted\" rel=\"noreferrer\" target=\"_blank\" href=\"https://scikit-learn.org/1.6/modules/generated/sklearn.linear_model.LogisticRegression.html\">?<span>Documentation for LogisticRegression</span></a><span class=\"sk-estimator-doc-link fitted\">i<span>Fitted</span></span></div></label><div class=\"sk-toggleable__content fitted\"><pre>LogisticRegression()</pre></div> </div></div></div></div>"
      ],
      "text/plain": [
       "LogisticRegression()"
      ]
     },
     "execution_count": 23,
     "metadata": {},
     "output_type": "execute_result"
    }
   ],
   "source": [
    "model.fit(X_train, Y_train)"
   ]
  },
  {
   "cell_type": "markdown",
   "id": "1be5356e-b938-4ab1-95b8-35354ca20d79",
   "metadata": {},
   "source": [
    "### Evaluation\n",
    "Accuracy Score"
   ]
  },
  {
   "cell_type": "code",
   "execution_count": 24,
   "id": "3f5a3a61-2dc8-4ddd-b72b-a71dd06510a1",
   "metadata": {},
   "outputs": [],
   "source": [
    "X_train_prediction = model.predict(X_train)\n",
    "training_data_accuracy = accuracy_score(X_train_prediction, Y_train)"
   ]
  },
  {
   "cell_type": "code",
   "execution_count": 25,
   "id": "c236a524-0fa4-4eed-a073-b302f581a526",
   "metadata": {},
   "outputs": [
    {
     "name": "stdout",
     "output_type": "stream",
     "text": [
      "Accuracy score of the training data:  0.9151020408163265\n"
     ]
    }
   ],
   "source": [
    "print('Accuracy score of the training data: ', training_data_accuracy)"
   ]
  },
  {
   "cell_type": "code",
   "execution_count": 26,
   "id": "43738e0b-c914-4645-854a-5c778ec77671",
   "metadata": {},
   "outputs": [],
   "source": [
    "X_train_prediction = model.predict(X_test)\n",
    "test_data_accuracy = accuracy_score(X_train_prediction, Y_test)"
   ]
  },
  {
   "cell_type": "code",
   "execution_count": 27,
   "id": "7331ebc9-cf49-43e7-aa58-1ea79b44eab7",
   "metadata": {},
   "outputs": [
    {
     "name": "stdout",
     "output_type": "stream",
     "text": [
      "Accuracy score of the test data:  0.8541893362350381\n"
     ]
    }
   ],
   "source": [
    "print('Accuracy score of the test data: ', test_data_accuracy)"
   ]
  },
  {
   "cell_type": "code",
   "execution_count": 28,
   "id": "048e41bd-7e16-4728-97bd-10db6de60199",
   "metadata": {},
   "outputs": [
    {
     "name": "stdout",
     "output_type": "stream",
     "text": [
      "\n",
      "🧪 Logistic Regression Predictions on Test Titles:\n",
      "\n",
      "TITLE: nasa announces launch of artemis ii moon mission\n",
      "→ Predicted: Fake | Expected: Real\n",
      "\n",
      "TITLE: fed raises interest rate to combat inflation\n",
      "→ Predicted: Fake | Expected: Real\n",
      "\n",
      "TITLE: supreme court upholds key environmental regulation\n",
      "→ Predicted: Real | Expected: Real\n",
      "\n",
      "TITLE: pfizer receives fda approval for covid booster shot\n",
      "→ Predicted: Fake | Expected: Real\n",
      "\n",
      "TITLE: california faces worst wildfire season experts warn\n",
      "→ Predicted: Fake | Expected: Real\n",
      "\n",
      "TITLE: olympics 2024 hosted in paris with sustainability push\n",
      "→ Predicted: Fake | Expected: Real\n",
      "\n",
      "TITLE: biden signs bipartisan infrastructure bill into law\n",
      "→ Predicted: Real | Expected: Real\n",
      "\n",
      "TITLE: tesla reports record revenue this quarter\n",
      "→ Predicted: Fake | Expected: Real\n",
      "\n",
      "TITLE: fda approves new pill for postpartum depression\n",
      "→ Predicted: Fake | Expected: Real\n",
      "\n",
      "TITLE: japan launches lunar probe on historic space mission\n",
      "→ Predicted: Fake | Expected: Real\n",
      "\n",
      "TITLE: earth is flat confirms nasa secret meeting\n",
      "→ Predicted: Fake | Expected: Fake\n",
      "\n",
      "TITLE: aliens caught voting in u s presidential election\n",
      "→ Predicted: Fake | Expected: Fake\n",
      "\n",
      "TITLE: covid vaccine turns people into 5g antennas\n",
      "→ Predicted: Fake | Expected: Fake\n",
      "\n",
      "TITLE: time traveler from 2077 arrested for robot warning\n",
      "→ Predicted: Fake | Expected: Fake\n",
      "\n",
      "TITLE: bigfoot sighted stealing groceries from walmart\n",
      "→ Predicted: Fake | Expected: Fake\n",
      "\n",
      "TITLE: reptilian overlords control global governments\n",
      "→ Predicted: Fake | Expected: Fake\n",
      "\n",
      "TITLE: scientists discover cancer cure in egyptian pyramid\n",
      "→ Predicted: Fake | Expected: Fake\n",
      "\n",
      "TITLE: chemtrails used to control minds and weather\n",
      "→ Predicted: Fake | Expected: Fake\n",
      "\n",
      "TITLE: queen elizabeth replaced by clone in secret lab\n",
      "→ Predicted: Fake | Expected: Fake\n",
      "\n",
      "TITLE: vaccines contain chip that reads your thoughts\n",
      "→ Predicted: Fake | Expected: Fake\n",
      "\n"
     ]
    }
   ],
   "source": [
    "# ✅ Test title sets\n",
    "real_test_titles = [\n",
    "    \"nasa announces launch of artemis ii moon mission\",\n",
    "    \"fed raises interest rate to combat inflation\",\n",
    "    \"supreme court upholds key environmental regulation\",\n",
    "    \"pfizer receives fda approval for covid booster shot\",\n",
    "    \"california faces worst wildfire season experts warn\",\n",
    "    \"olympics 2024 hosted in paris with sustainability push\",\n",
    "    \"biden signs bipartisan infrastructure bill into law\",\n",
    "    \"tesla reports record revenue this quarter\",\n",
    "    \"fda approves new pill for postpartum depression\",\n",
    "    \"japan launches lunar probe on historic space mission\"\n",
    "]\n",
    "\n",
    "fake_test_titles = [\n",
    "    \"earth is flat confirms nasa secret meeting\",\n",
    "    \"aliens caught voting in u s presidential election\",\n",
    "    \"covid vaccine turns people into 5g antennas\",\n",
    "    \"time traveler from 2077 arrested for robot warning\",\n",
    "    \"bigfoot sighted stealing groceries from walmart\",\n",
    "    \"reptilian overlords control global governments\",\n",
    "    \"scientists discover cancer cure in egyptian pyramid\",\n",
    "    \"chemtrails used to control minds and weather\",\n",
    "    \"queen elizabeth replaced by clone in secret lab\",\n",
    "    \"vaccines contain chip that reads your thoughts\"\n",
    "]\n",
    "\n",
    "# ✅ Combine titles and assign labels\n",
    "test_titles = [(\"Real\", t) for t in real_test_titles] + [(\"Fake\", t) for t in fake_test_titles]\n",
    "\n",
    "# ✅ Run predictions\n",
    "print(\"\\n🧪 Logistic Regression Predictions on Test Titles:\\n\")\n",
    "\n",
    "for expected_label, title in test_titles:\n",
    "    processed_title = stemming(title)\n",
    "    vectorized = vectorizer.transform([processed_title])\n",
    "    prediction = model.predict(vectorized)[0]\n",
    "    predicted_label = \"Real\" if prediction == 0 else \"Fake\"\n",
    "    print(f\"TITLE: {title}\")\n",
    "    print(f\"→ Predicted: {predicted_label} | Expected: {expected_label}\\n\")\n"
   ]
  },
  {
   "cell_type": "code",
   "execution_count": null,
   "id": "6d82fd33-eca8-4fbb-b076-2aa3c34b07b6",
   "metadata": {},
   "outputs": [],
   "source": []
  }
 ],
 "metadata": {
  "kernelspec": {
   "display_name": "Python 3 (ipykernel)",
   "language": "python",
   "name": "python3"
  },
  "language_info": {
   "codemirror_mode": {
    "name": "ipython",
    "version": 3
   },
   "file_extension": ".py",
   "mimetype": "text/x-python",
   "name": "python",
   "nbconvert_exporter": "python",
   "pygments_lexer": "ipython3",
   "version": "3.13.3"
  }
 },
 "nbformat": 4,
 "nbformat_minor": 5
}

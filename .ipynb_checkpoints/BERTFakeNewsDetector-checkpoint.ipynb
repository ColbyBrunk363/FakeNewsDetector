{
 "cells": [
  {
   "cell_type": "markdown",
   "id": "289c3678-17fa-4d53-b51b-91f939d2e876",
   "metadata": {},
   "source": [
    "# Fake News Detector Using BERT Model"
   ]
  },
  {
   "cell_type": "markdown",
   "id": "e254ef2c-bec4-4c60-bba1-5bb980b344de",
   "metadata": {},
   "source": [
    "## Setup Environment"
   ]
  },
  {
   "cell_type": "code",
   "execution_count": 1,
   "id": "dd078660-7696-43fb-aac6-efdf08def1cf",
   "metadata": {},
   "outputs": [],
   "source": [
    "import os\n",
    "os.environ[\"HF_HUB_DISABLE_SYMLINKS_WARNING\"] = \"1\""
   ]
  },
  {
   "cell_type": "code",
   "execution_count": 2,
   "id": "f59517bb-002a-4241-b225-ba4331aa13b9",
   "metadata": {},
   "outputs": [],
   "source": [
    "import pandas as pd\n",
    "import torch\n",
    "from sklearn.model_selection import train_test_split\n",
    "from sklearn.metrics import accuracy_score, precision_recall_fscore_support\n",
    "from transformers import (\n",
    "    BertTokenizer,\n",
    "    BertForSequenceClassification,\n",
    "    Trainer,\n",
    "    TrainingArguments\n",
    ")"
   ]
  },
  {
   "cell_type": "code",
   "execution_count": 3,
   "id": "1a335ac4-7f35-451d-83fc-62e6372502b3",
   "metadata": {},
   "outputs": [
    {
     "name": "stdout",
     "output_type": "stream",
     "text": [
      "Original Distribution: Counter({0: 23502, 1: 21417})\n",
      "Balanced Distribution: Counter({0: 21417, 1: 21417})\n"
     ]
    }
   ],
   "source": [
    "from collections import Counter\n",
    "\n",
    "# Load datasets\n",
    "fake_df = pd.read_csv(\n",
    "    r\"C:\\Users\\colby\\OneDrive\\Desktop\\School\\Capstone\\FakeNewsDataset.csv\",\n",
    "    usecols=[\"title\", \"text\"],\n",
    "    low_memory=False\n",
    ")\n",
    "real_df = pd.read_csv(\n",
    "    r\"C:\\Users\\colby\\OneDrive\\Desktop\\School\\Capstone\\RealNewsDataset.csv\",\n",
    "    usecols=[\"title\", \"text\"],\n",
    "    low_memory=False\n",
    ")\n",
    "\n",
    "# Add labels\n",
    "fake_df[\"label\"] = 0\n",
    "real_df[\"label\"] = 1\n",
    "\n",
    "df = pd.concat([fake_df, real_df])\n",
    "print(\"Original Distribution:\", Counter(df[\"label\"]))\n",
    "\n",
    "# Balance dataset\n",
    "fake_df_balanced = df[df[\"label\"] == 0].sample(n=df[\"label\"].value_counts()[1], random_state=42)\n",
    "real_df_balanced = df[df[\"label\"] == 1]\n",
    "df = pd.concat([fake_df_balanced, real_df_balanced]).sample(frac=1, random_state=42).reset_index(drop=True)\n",
    "print(\"Balanced Distribution:\", Counter(df[\"label\"]))\n",
    "\n",
    "# Combine text\n",
    "df[\"content\"] = df[\"title\"] + \" \" + df[\"text\"]\n",
    "df = df[[\"content\", \"label\"]]"
   ]
  },
  {
   "cell_type": "code",
   "execution_count": 4,
   "id": "d766724c-235a-43c0-b479-700860c694c5",
   "metadata": {},
   "outputs": [
    {
     "data": {
      "text/html": [
       "<div>\n",
       "<style scoped>\n",
       "    .dataframe tbody tr th:only-of-type {\n",
       "        vertical-align: middle;\n",
       "    }\n",
       "\n",
       "    .dataframe tbody tr th {\n",
       "        vertical-align: top;\n",
       "    }\n",
       "\n",
       "    .dataframe thead th {\n",
       "        text-align: right;\n",
       "    }\n",
       "</style>\n",
       "<table border=\"1\" class=\"dataframe\">\n",
       "  <thead>\n",
       "    <tr style=\"text-align: right;\">\n",
       "      <th></th>\n",
       "      <th>content</th>\n",
       "      <th>label</th>\n",
       "    </tr>\n",
       "  </thead>\n",
       "  <tbody>\n",
       "    <tr>\n",
       "      <th>0</th>\n",
       "      <td>OBAMA FIGHTS TO KEEP RADICAL AGENDA ALIVE: Ask...</td>\n",
       "      <td>0</td>\n",
       "    </tr>\n",
       "    <tr>\n",
       "      <th>1</th>\n",
       "      <td>Investigators probe Trump knowledge of campaig...</td>\n",
       "      <td>1</td>\n",
       "    </tr>\n",
       "    <tr>\n",
       "      <th>2</th>\n",
       "      <td>MICHIGAN CONTROVERSY OVER GUN DEPICTED IN VETE...</td>\n",
       "      <td>0</td>\n",
       "    </tr>\n",
       "    <tr>\n",
       "      <th>3</th>\n",
       "      <td>Jennifer Lawrence Has Two VERY Choice Words F...</td>\n",
       "      <td>0</td>\n",
       "    </tr>\n",
       "    <tr>\n",
       "      <th>4</th>\n",
       "      <td>UNHINGED TRUMP PROTESTER Arrested For Slapping...</td>\n",
       "      <td>0</td>\n",
       "    </tr>\n",
       "    <tr>\n",
       "      <th>5</th>\n",
       "      <td>UNCENSORED VIDEO: Real New Yorkers’ Opinions O...</td>\n",
       "      <td>0</td>\n",
       "    </tr>\n",
       "    <tr>\n",
       "      <th>6</th>\n",
       "      <td>Factbox: Top agricultural exports vulnerable t...</td>\n",
       "      <td>1</td>\n",
       "    </tr>\n",
       "    <tr>\n",
       "      <th>7</th>\n",
       "      <td>Trump urges U.S. Congress to repeal Obamacare ...</td>\n",
       "      <td>1</td>\n",
       "    </tr>\n",
       "    <tr>\n",
       "      <th>8</th>\n",
       "      <td>Watch A GOP Member Of Science Committee Suffe...</td>\n",
       "      <td>0</td>\n",
       "    </tr>\n",
       "    <tr>\n",
       "      <th>9</th>\n",
       "      <td>BREAKING: PROTESTER JUMPS ON STAGE…Grabs Trump...</td>\n",
       "      <td>0</td>\n",
       "    </tr>\n",
       "    <tr>\n",
       "      <th>10</th>\n",
       "      <td>Senator Schumer expects 'mainstream nominee' f...</td>\n",
       "      <td>1</td>\n",
       "    </tr>\n",
       "    <tr>\n",
       "      <th>11</th>\n",
       "      <td>MEDIA HIDES TRUTH ABOUT #UnFitHillary: FALLS O...</td>\n",
       "      <td>0</td>\n",
       "    </tr>\n",
       "    <tr>\n",
       "      <th>12</th>\n",
       "      <td>BREAKING: SECRET RECORDINGS About Clinton Foun...</td>\n",
       "      <td>0</td>\n",
       "    </tr>\n",
       "    <tr>\n",
       "      <th>13</th>\n",
       "      <td>Australian publisher delays book alleging Chin...</td>\n",
       "      <td>1</td>\n",
       "    </tr>\n",
       "    <tr>\n",
       "      <th>14</th>\n",
       "      <td>CROOKED DEMOCRAT Congresswoman Corrine Brown F...</td>\n",
       "      <td>0</td>\n",
       "    </tr>\n",
       "  </tbody>\n",
       "</table>\n",
       "</div>"
      ],
      "text/plain": [
       "                                              content  label\n",
       "0   OBAMA FIGHTS TO KEEP RADICAL AGENDA ALIVE: Ask...      0\n",
       "1   Investigators probe Trump knowledge of campaig...      1\n",
       "2   MICHIGAN CONTROVERSY OVER GUN DEPICTED IN VETE...      0\n",
       "3    Jennifer Lawrence Has Two VERY Choice Words F...      0\n",
       "4   UNHINGED TRUMP PROTESTER Arrested For Slapping...      0\n",
       "5   UNCENSORED VIDEO: Real New Yorkers’ Opinions O...      0\n",
       "6   Factbox: Top agricultural exports vulnerable t...      1\n",
       "7   Trump urges U.S. Congress to repeal Obamacare ...      1\n",
       "8    Watch A GOP Member Of Science Committee Suffe...      0\n",
       "9   BREAKING: PROTESTER JUMPS ON STAGE…Grabs Trump...      0\n",
       "10  Senator Schumer expects 'mainstream nominee' f...      1\n",
       "11  MEDIA HIDES TRUTH ABOUT #UnFitHillary: FALLS O...      0\n",
       "12  BREAKING: SECRET RECORDINGS About Clinton Foun...      0\n",
       "13  Australian publisher delays book alleging Chin...      1\n",
       "14  CROOKED DEMOCRAT Congresswoman Corrine Brown F...      0"
      ]
     },
     "execution_count": 4,
     "metadata": {},
     "output_type": "execute_result"
    }
   ],
   "source": [
    "# Print out first 15 lines \n",
    "df.head(15)"
   ]
  },
  {
   "cell_type": "markdown",
   "id": "6a6ece20-3993-450c-9388-bfc9e5bd0d3e",
   "metadata": {},
   "source": [
    "## Train and Test Split"
   ]
  },
  {
   "cell_type": "code",
   "execution_count": null,
   "id": "32012dc7-f19f-400e-900e-f8916956fd52",
   "metadata": {},
   "outputs": [],
   "source": [
    "train_texts, val_texts, train_labels, val_labels = train_test_split(\n",
    "    df[\"content\"].tolist(),\n",
    "    df[\"label\"].tolist(),\n",
    "    test_size=0.2,\n",
    "    random_state=42\n",
    ")"
   ]
  },
  {
   "cell_type": "markdown",
   "id": "75e47760-07be-4274-8738-908cc3111ed9",
   "metadata": {},
   "source": [
    "## Tokenize"
   ]
  },
  {
   "cell_type": "code",
   "execution_count": null,
   "id": "4b530747-ec8c-496c-95ae-65180c2921e5",
   "metadata": {},
   "outputs": [],
   "source": [
    "from transformers import BertTokenizer\n",
    "\n",
    "tokenizer = BertTokenizer.from_pretrained(\"bert-base-uncased\")\n",
    "\n",
    "train_encodings = tokenizer(train_texts, truncation=True, padding=True, max_length=512)\n",
    "val_encodings = tokenizer(val_texts, truncation=True, padding=True, max_length=512)"
   ]
  },
  {
   "cell_type": "markdown",
   "id": "d05c8457-a689-4852-973a-f0a34e777183",
   "metadata": {},
   "source": [
    "## Convert to PyTorch Dataset"
   ]
  },
  {
   "cell_type": "code",
   "execution_count": null,
   "id": "7ed05e2d-e8c8-4349-8543-d111ad83756d",
   "metadata": {},
   "outputs": [],
   "source": [
    "class FakeNewsDataset(torch.utils.data.Dataset):\n",
    "    def __init__(self, encodings, labels):\n",
    "        self.encodings = encodings\n",
    "        self.labels = labels\n",
    "\n",
    "    def __getitem__(self, idx):\n",
    "        return {\n",
    "            key: torch.tensor(val[idx]) for key, val in self.encodings.items()\n",
    "        } | {\"labels\": torch.tensor(self.labels[idx])}\n",
    "\n",
    "    def __len__(self):\n",
    "        return len(self.labels)\n",
    "\n",
    "train_dataset = FakeNewsDataset(train_encodings, train_labels)\n",
    "val_dataset = FakeNewsDataset(val_encodings, val_labels)"
   ]
  },
  {
   "cell_type": "markdown",
   "id": "ac3d17be-7666-4dc6-9734-818191554a50",
   "metadata": {},
   "source": [
    "## Load BERT Model"
   ]
  },
  {
   "cell_type": "code",
   "execution_count": null,
   "id": "e2bda9ff-44fb-4d9b-9cce-4ac6b77168a1",
   "metadata": {},
   "outputs": [],
   "source": [
    "model = BertForSequenceClassification.from_pretrained(\"bert-base-uncased\", num_labels=2)"
   ]
  },
  {
   "cell_type": "code",
   "execution_count": null,
   "id": "db931d6d-8849-458e-9db3-d16a38c07702",
   "metadata": {},
   "outputs": [],
   "source": [
    "import transformers\n",
    "from transformers import TrainingArguments\n",
    "\n",
    "training_args = TrainingArguments(\n",
    "    output_dir=\"./results\",\n",
    "    eval_strategy=\"epoch\",\n",
    "    save_strategy=\"epoch\", \n",
    "    learning_rate=1e-5,     \n",
    "    per_device_train_batch_size=16,\n",
    "    per_device_eval_batch_size=64,\n",
    "    num_train_epochs=6,   \n",
    "    weight_decay=0.01,\n",
    "    logging_dir=\"./logs\",\n",
    "    save_total_limit=1,\n",
    "    load_best_model_at_end=True,   \n",
    "    metric_for_best_model=\"eval_loss\",\n",
    "    greater_is_better=False          \n",
    ")\n",
    "\n"
   ]
  },
  {
   "cell_type": "code",
   "execution_count": null,
   "id": "d03dbc9a-2c4d-465e-a2d6-8457377a73a9",
   "metadata": {},
   "outputs": [],
   "source": [
    "def compute_metrics(pred):\n",
    "    labels = pred.label_ids\n",
    "    preds = pred.predictions.argmax(-1)\n",
    "    precision, recall, f1, _ = precision_recall_fscore_support(labels, preds, average='weighted')\n",
    "    acc = accuracy_score(labels, preds)\n",
    "    return {\"accuracy\": acc, \"f1\": f1, \"precision\": precision, \"recall\": recall}\n"
   ]
  },
  {
   "cell_type": "markdown",
   "id": "1bb55ae5-4b03-4bd8-bb68-2f13fc29c934",
   "metadata": {},
   "source": [
    "## Train the Model"
   ]
  },
  {
   "cell_type": "code",
   "execution_count": null,
   "id": "173ba94f-3e62-4f11-aed6-2947876e24fb",
   "metadata": {},
   "outputs": [],
   "source": [
    "import torch\n",
    "\n",
    "print(torch.cuda.is_available())\n",
    "print(torch.cuda.get_device_name(0) if torch.cuda.is_available() else \"No GPU detected\")"
   ]
  },
  {
   "cell_type": "code",
   "execution_count": null,
   "id": "f31fc75d-e7a3-4ef2-92da-7b03f152e51f",
   "metadata": {
    "scrolled": true
   },
   "outputs": [],
   "source": [
    "from transformers import Trainer\n",
    "from transformers import EarlyStoppingCallback\n",
    "\n",
    "trainer = Trainer(\n",
    "    model=model,\n",
    "    args=training_args,\n",
    "    train_dataset=train_dataset,\n",
    "    eval_dataset=val_dataset,\n",
    "    tokenizer=tokenizer,\n",
    "    compute_metrics=compute_metrics,\n",
    "    callbacks=[EarlyStoppingCallback(early_stopping_patience=2)],  # ✅ Stops if no improvement\n",
    ")\n",
    "trainer.train()"
   ]
  },
  {
   "cell_type": "code",
   "execution_count": null,
   "id": "16810fe1-3ab7-4291-8e13-2413c6e5df38",
   "metadata": {},
   "outputs": [],
   "source": [
    "def predict_fake_news(text):\n",
    "    inputs = tokenizer(text, return_tensors=\"pt\", truncation=True, padding=True, max_length=512).to(model.device)\n",
    "    with torch.no_grad():\n",
    "        outputs = model(**inputs)\n",
    "    logits = outputs.logits\n",
    "    predicted_class = logits.argmax(-1).item()\n",
    "    return predicted_class"
   ]
  },
  {
   "cell_type": "code",
   "execution_count": null,
   "id": "d0813741-8f1a-4f62-b9f5-7c9cde77eb6f",
   "metadata": {},
   "outputs": [],
   "source": [
    "model.save_pretrained(r\"C:\\Users\\colby\\OneDrive\\Desktop\\School\\Capstone\\fake_news_bert_model2\")\n",
    "tokenizer.save_pretrained(r\"C:\\Users\\colby\\OneDrive\\Desktop\\School\\Capstone\\fake_news_bert_model2\")"
   ]
  },
  {
   "cell_type": "markdown",
   "id": "d324c448-f926-4ba3-9698-ed4ce4941655",
   "metadata": {},
   "source": [
    "## Test the model"
   ]
  },
  {
   "cell_type": "code",
   "execution_count": null,
   "id": "b6608e48-ca71-440e-a0a4-e5ae0c2ecbad",
   "metadata": {},
   "outputs": [],
   "source": [
    "real_text = \"\"\"\n",
    "President Joe Biden signed into law a major bipartisan infrastructure bill that includes $550 billion in new spending for bridges, roads, broadband, and utilities.\n",
    "This marks a significant achievement for the administration and is expected to boost job creation and improve transportation across the U.S.\n",
    "\"\"\"\n",
    "\n",
    "print(\"Prediction (real):\", predict_fake_news(real_text))"
   ]
  },
  {
   "cell_type": "code",
   "execution_count": null,
   "id": "d0ffaa64-424e-4b40-89f6-56c6bd6b2294",
   "metadata": {},
   "outputs": [],
   "source": [
    "metrics = trainer.evaluate(eval_dataset=val_dataset)\n",
    "print(metrics)"
   ]
  },
  {
   "cell_type": "code",
   "execution_count": null,
   "id": "f2904e59-8772-4492-a657-42889619d969",
   "metadata": {},
   "outputs": [],
   "source": [
    "for i in range(5):\n",
    "    sample = val_texts[i]\n",
    "    label = val_labels[i]\n",
    "    prediction = predict_fake_news(sample)\n",
    "    print(f\"\\nSample #{i + 1}\")\n",
    "    print(\"Actual Label:\", \"Real\" if label == 1 else \"Fake\")\n",
    "    print(\"Predicted Label:\", \"Real\" if prediction == 1 else \"Fake\")"
   ]
  },
  {
   "cell_type": "code",
   "execution_count": null,
   "id": "1ddb0fec-c7d0-42b2-bc51-7ee3dede53b9",
   "metadata": {},
   "outputs": [],
   "source": [
    "df[\"label\"].value_counts()"
   ]
  },
  {
   "cell_type": "code",
   "execution_count": null,
   "id": "b1964dee-1be0-4150-b9b1-c83ff16fd6c8",
   "metadata": {
    "scrolled": true
   },
   "outputs": [],
   "source": [
    "from sklearn.metrics import classification_report\n",
    "\n",
    "# Predict on all validation texts\n",
    "predictions = [predict_fake_news(text) for text in val_texts]\n",
    "predicted_labels = [1 if p == \"Real\" else 0 for p in predictions]\n",
    "\n",
    "# Generate classification report\n",
    "print(classification_report(val_labels, predicted_labels, target_names=[\"Fake\", \"Real\"]))"
   ]
  },
  {
   "cell_type": "code",
   "execution_count": null,
   "id": "97a67dad-4963-4d82-bdff-575d25c5243b",
   "metadata": {},
   "outputs": [],
   "source": [
    "from collections import Counter\n",
    "\n",
    "# Check label distribution\n",
    "print(\"Train Labels:\", Counter(train_labels))\n",
    "print(\"Validation Labels:\", Counter(val_labels))"
   ]
  },
  {
   "cell_type": "code",
   "execution_count": null,
   "id": "c4463a3a-f6da-47fb-92c7-dd0db4d4b6c1",
   "metadata": {},
   "outputs": [],
   "source": []
  }
 ],
 "metadata": {
  "kernelspec": {
   "display_name": "Python 3 (ipykernel)",
   "language": "python",
   "name": "python3"
  },
  "language_info": {
   "codemirror_mode": {
    "name": "ipython",
    "version": 3
   },
   "file_extension": ".py",
   "mimetype": "text/x-python",
   "name": "python",
   "nbconvert_exporter": "python",
   "pygments_lexer": "ipython3",
   "version": "3.13.3"
  }
 },
 "nbformat": 4,
 "nbformat_minor": 5
}

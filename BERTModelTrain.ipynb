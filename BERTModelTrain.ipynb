{
 "cells": [
  {
   "cell_type": "markdown",
   "id": "8f6b335d-1d8b-4aa5-82c9-690632e941ba",
   "metadata": {},
   "source": [
    "# Fake News Detector Using Google's BERT Model"
   ]
  },
  {
   "cell_type": "markdown",
   "id": "b637d3e1-a527-4246-8ed1-2237cedbbf2b",
   "metadata": {},
   "source": [
    "## Setup Enviornment"
   ]
  },
  {
   "cell_type": "code",
   "execution_count": null,
   "id": "fb201c05-41ad-4d3e-beef-0ffd4ea7fe05",
   "metadata": {},
   "outputs": [],
   "source": [
    "import os\n",
    "os.environ[\"HF_HUB_DISABLE_SYMLINKS_WARNING\"] = \"1\""
   ]
  },
  {
   "cell_type": "code",
   "execution_count": null,
   "id": "fd0474ed-ee8c-4fd4-94aa-792de6d02ef7",
   "metadata": {},
   "outputs": [],
   "source": [
    "import torch\n",
    "print(\"CUDA Available:\", torch.cuda.is_available())\n",
    "print(\"Device Name:\", torch.cuda.get_device_name(0) if torch.cuda.is_available() else \"No GPU Detected\")"
   ]
  },
  {
   "cell_type": "code",
   "execution_count": null,
   "id": "fa989422-b46b-46d2-8626-c4efd8a1449c",
   "metadata": {},
   "outputs": [],
   "source": [
    "import pandas as pd\n",
    "import torch\n",
    "import pandas as pd\n",
    "import re\n",
    "from sklearn.model_selection import train_test_split\n",
    "from sklearn.metrics import accuracy_score, precision_recall_fscore_support\n",
    "from sklearn.utils import resample\n",
    "from transformers import (\n",
    "    BertTokenizer,\n",
    "    BertForSequenceClassification,\n",
    "    TrainingArguments,\n",
    "    EarlyStoppingCallback\n",
    ")\n"
   ]
  },
  {
   "cell_type": "markdown",
   "id": "9dd6fbcc-a7a5-40bd-a9d1-7edb8fd6347f",
   "metadata": {},
   "source": [
    "## Preprocessing Dataset"
   ]
  },
  {
   "cell_type": "code",
   "execution_count": null,
   "id": "3eb50217-d4aa-48f9-ba0a-c03c2c12094f",
   "metadata": {},
   "outputs": [],
   "source": [
    "# Preprocessing Function\n",
    "def clean_text(text):\n",
    "    text = str(text).lower()\n",
    "    text = re.sub(r\"http\\S+\", \"\", text)              # Remove URLs\n",
    "    text = re.sub(r\"<.*?>\", \"\", text)                # Remove HTML tags\n",
    "    text = re.sub(r\"[^A-Za-z0-9\\s.,!?]\", \"\", text)   # Remove unwanted characters\n",
    "    text = re.sub(r\"\\s+\", \" \", text)                 # Normalize whitespace\n",
    "    return text.strip()"
   ]
  },
  {
   "cell_type": "code",
   "execution_count": null,
   "id": "1a00876a-31e2-4f63-a2fe-bfac2c23c766",
   "metadata": {},
   "outputs": [],
   "source": [
    "# Load Dataset\n",
    "fake_df = pd.read_csv(\n",
    "    r\"C:/Users/colby/OneDrive/Desktop/School/Capstone/FakeNewsDataset.csv\",\n",
    "    usecols=[\"title\", \"text\"],\n",
    "    low_memory=False\n",
    ")\n",
    "real_df = pd.read_csv(\n",
    "    r\"C:/Users/colby/OneDrive/Desktop/School/Capstone/RealNewsDataset.csv\",\n",
    "    usecols=[\"title\", \"text\"],\n",
    "    low_memory=False\n",
    ")\n",
    "\n",
    "# Add Labels\n",
    "fake_df[\"label\"] = 0\n",
    "real_df[\"label\"] = 1\n",
    "\n",
    "# Upsample Real News to Match Fake News Count\n",
    "real_upsampled = resample(real_df, replace=True, n_samples=len(fake_df), random_state=42)\n",
    "\n",
    "# Combine and Shuffle\n",
    "df = pd.concat([fake_df, real_upsampled]).sample(frac=1, random_state=42).reset_index(drop=True)\n",
    "\n",
    "# Apply Preprocessing\n",
    "df[\"content\"] = (df[\"title\"] + \" \" + df[\"text\"]).apply(clean_text)\n",
    "\n",
    "# Final Dataset\n",
    "df = df[[\"content\", \"label\"]]"
   ]
  },
  {
   "cell_type": "code",
   "execution_count": null,
   "id": "101b8235-b556-44c4-aa49-63e48da9e9f4",
   "metadata": {},
   "outputs": [],
   "source": [
    "df.head(15)"
   ]
  },
  {
   "cell_type": "markdown",
   "id": "6493de05-bd73-4995-87a3-4ef8567f7ec0",
   "metadata": {},
   "source": [
    "## Splitting Dataset Into Training and Testing Data"
   ]
  },
  {
   "cell_type": "code",
   "execution_count": null,
   "id": "61a9ff29-071e-404b-be21-eb6e1e67d58e",
   "metadata": {},
   "outputs": [],
   "source": [
    "# Train/Test Split\n",
    "train_texts, val_texts, train_labels, val_labels = train_test_split(\n",
    "    df[\"content\"].tolist(),\n",
    "    df[\"label\"].tolist(),\n",
    "    test_size=0.2,\n",
    "    random_state=42\n",
    ")"
   ]
  },
  {
   "cell_type": "code",
   "execution_count": null,
   "id": "01cb855c-8656-41ce-83e9-0b42c946e894",
   "metadata": {},
   "outputs": [],
   "source": [
    "# Tokenization\n",
    "tokenizer = BertTokenizer.from_pretrained(\"bert-base-uncased\")\n",
    "train_encodings = tokenizer(train_texts, truncation=True, padding=True, max_length=512)\n",
    "val_encodings = tokenizer(val_texts, truncation=True, padding=True, max_length=512)"
   ]
  },
  {
   "cell_type": "code",
   "execution_count": null,
   "id": "7504deda-de34-4a04-8499-947edb88ba43",
   "metadata": {},
   "outputs": [],
   "source": [
    "# Dataset class\n",
    "class FakeNewsDataset(torch.utils.data.Dataset):\n",
    "    def __init__(self, encodings, labels):\n",
    "        self.encodings = encodings\n",
    "        self.labels = labels\n",
    "    def __getitem__(self, idx):\n",
    "        return {key: torch.tensor(val[idx]) for key, val in self.encodings.items()} | {\"labels\": torch.tensor(self.labels[idx])}\n",
    "    def __len__(self):\n",
    "        return len(self.labels)\n",
    "\n",
    "train_dataset = FakeNewsDataset(train_encodings, train_labels)\n",
    "val_dataset = FakeNewsDataset(val_encodings, val_labels)\n"
   ]
  },
  {
   "cell_type": "markdown",
   "id": "b1854a2d-fb4e-44ae-bb06-697fd0ae76ff",
   "metadata": {},
   "source": [
    "## Load the Model"
   ]
  },
  {
   "cell_type": "code",
   "execution_count": null,
   "id": "704dd354-ce0e-4e0c-b4a6-a8091776c6fa",
   "metadata": {},
   "outputs": [],
   "source": [
    "# Load model\n",
    "model = BertForSequenceClassification.from_pretrained(\"bert-base-uncased\", num_labels=2)\n",
    "\n",
    "for param in model.bert.parameters():\n",
    "    param.requires_grad = False\n",
    "\n",
    "# Move model to GPU if available\n",
    "device = torch.device(\"cuda\" if torch.cuda.is_available() else \"cpu\")\n",
    "model.to(device)"
   ]
  },
  {
   "cell_type": "markdown",
   "id": "5231f4e9-ef50-4997-ada5-ff044644c069",
   "metadata": {},
   "source": [
    "## Training the Model"
   ]
  },
  {
   "cell_type": "code",
   "execution_count": null,
   "id": "ba2e6c0b-baba-47f3-a2d9-e3d220c93e41",
   "metadata": {},
   "outputs": [],
   "source": [
    "# Custom Trainer with Class Weights\n",
    "from transformers import Trainer\n",
    "import torch.nn.functional as F\n",
    "from torch.nn import CrossEntropyLoss\n",
    "\n",
    "class WeightedTrainer(Trainer):\n",
    "    def compute_loss(self, model, inputs, return_outputs=False, num_items_in_batch=None):\n",
    "        labels = inputs.pop(\"labels\")\n",
    "        outputs = model(**inputs)\n",
    "        logits = outputs.logits\n",
    "\n",
    "        # Class weights\n",
    "        weights = torch.tensor([1.0, 1.1]).to(model.device)\n",
    "        loss_fn = CrossEntropyLoss(weight=weights)\n",
    "\n",
    "        loss = loss_fn(logits, labels)\n",
    "\n",
    "        return (loss, outputs) if return_outputs else loss"
   ]
  },
  {
   "cell_type": "code",
   "execution_count": null,
   "id": "eea6e63a-7c23-44c9-801e-9aae58908e45",
   "metadata": {},
   "outputs": [],
   "source": [
    "# Metrics\n",
    "def compute_metrics(pred):\n",
    "    labels = pred.label_ids\n",
    "    preds = pred.predictions.argmax(-1)\n",
    "    precision, recall, f1, _ = precision_recall_fscore_support(labels, preds, average='weighted')\n",
    "    acc = accuracy_score(labels, preds)\n",
    "    return {\"accuracy\": acc, \"f1\": f1, \"precision\": precision, \"recall\": recall}\n"
   ]
  },
  {
   "cell_type": "code",
   "execution_count": null,
   "id": "415bf822-9235-4761-8b55-83e63a27a568",
   "metadata": {},
   "outputs": [],
   "source": [
    "# Training args\n",
    "training_args = TrainingArguments(\n",
    "    output_dir=\"./results\",\n",
    "    eval_strategy=\"epoch\",\n",
    "    save_strategy=\"epoch\",\n",
    "    learning_rate=1e-5,\n",
    "    per_device_train_batch_size=16,\n",
    "    per_device_eval_batch_size=64,\n",
    "    num_train_epochs=6,\n",
    "    weight_decay=0.01,\n",
    "    logging_dir=\"./logs\",\n",
    "    save_total_limit=1,\n",
    "    load_best_model_at_end=True,\n",
    "    metric_for_best_model=\"eval_loss\",\n",
    "    greater_is_better=False,\n",
    "    label_smoothing_factor=0.1\n",
    ")\n"
   ]
  },
  {
   "cell_type": "code",
   "execution_count": null,
   "id": "d0822958-7a72-4150-afcb-cac11814fb83",
   "metadata": {},
   "outputs": [],
   "source": [
    "# Trainer instance\n",
    "trainer = WeightedTrainer(\n",
    "    model=model,\n",
    "    args=training_args,\n",
    "    train_dataset=train_dataset,\n",
    "    eval_dataset=val_dataset,\n",
    "    tokenizer=tokenizer,\n",
    "    compute_metrics=compute_metrics,\n",
    "    callbacks=[EarlyStoppingCallback(early_stopping_patience=3)]\n",
    ")"
   ]
  },
  {
   "cell_type": "code",
   "execution_count": null,
   "id": "164437ed-9a4d-4f05-ba3e-c6e233682c13",
   "metadata": {},
   "outputs": [],
   "source": [
    "# Train the model\n",
    "trainer.train()\n"
   ]
  },
  {
   "cell_type": "markdown",
   "id": "c94d8acb-d634-4b5f-b7ae-6ea4628a8f30",
   "metadata": {},
   "source": [
    "## Testing the Model"
   ]
  },
  {
   "cell_type": "code",
   "execution_count": null,
   "id": "aebb1b79-5cb0-4c26-827c-445bed87f3e8",
   "metadata": {},
   "outputs": [],
   "source": [
    "def predict_fake_news(text):\n",
    "    inputs = tokenizer(text, return_tensors=\"pt\", truncation=True, padding=True, max_length=512).to(model.device)\n",
    "    with torch.no_grad():\n",
    "        outputs = model(**inputs)\n",
    "    logits = outputs.logits\n",
    "    predicted_class = logits.argmax(-1).item()\n",
    "    return predicted_class"
   ]
  },
  {
   "cell_type": "code",
   "execution_count": null,
   "id": "1e0cb559-76ab-4216-a5b1-262ed1cc408b",
   "metadata": {},
   "outputs": [],
   "source": [
    "model.save_pretrained(r\"C:\\Users\\colby\\OneDrive\\Desktop\\School\\Capstone\\fake_news_bert_model_full_freeze\")\n",
    "tokenizer.save_pretrained(r\"C:\\Users\\colby\\OneDrive\\Desktop\\School\\Capstone\\fake_news_bert_model_full_freeze\")"
   ]
  },
  {
   "cell_type": "code",
   "execution_count": null,
   "id": "40d02617-f522-4e38-a0db-1dbc54fc0082",
   "metadata": {},
   "outputs": [],
   "source": [
    "real_text = \"\"\"\n",
    "President Joe Biden signed into law a major bipartisan infrastructure bill that includes $550 billion in new spending for bridges, roads, broadband, and utilities.\n",
    "This marks a significant achievement for the administration and is expected to boost job creation and improve transportation across the U.S.\n",
    "\"\"\"\n",
    "\n",
    "print(\"Prediction (real):\", predict_fake_news(real_text))"
   ]
  },
  {
   "cell_type": "code",
   "execution_count": null,
   "id": "bd870325-5399-49bc-a288-d27daa4abf23",
   "metadata": {},
   "outputs": [],
   "source": [
    "metrics = trainer.evaluate(eval_dataset=val_dataset)\n",
    "print(metrics)"
   ]
  },
  {
   "cell_type": "code",
   "execution_count": null,
   "id": "b7e2c3f3-a369-4574-878b-0ef91492b8b9",
   "metadata": {},
   "outputs": [],
   "source": [
    "for i in range(5):\n",
    "    sample = val_texts[i]\n",
    "    label = val_labels[i]\n",
    "    prediction = predict_fake_news(sample)\n",
    "    print(f\"\\nSample #{i + 1}\")\n",
    "    print(\"Actual Label:\", \"Real\" if label == 1 else \"Fake\")\n",
    "    print(\"Predicted Label:\", \"Real\" if prediction == 1 else \"Fake\")"
   ]
  },
  {
   "cell_type": "code",
   "execution_count": null,
   "id": "2c4e4eb5-8e76-4549-9620-4e96c727b845",
   "metadata": {},
   "outputs": [],
   "source": [
    "from sklearn.metrics import classification_report\n",
    "\n",
    "# Predict on all validation texts\n",
    "predictions = [predict_fake_news(text) for text in val_texts]\n",
    "predicted_labels = [1 if p == \"Real\" else 0 for p in predictions]\n",
    "\n",
    "# Generate classification report\n",
    "print(classification_report(val_labels, predicted_labels, target_names=[\"Fake\", \"Real\"]))"
   ]
  },
  {
   "cell_type": "code",
   "execution_count": null,
   "id": "c54b4057-335d-4602-9c59-7b8bc9517754",
   "metadata": {},
   "outputs": [],
   "source": [
    "from collections import Counter\n",
    "\n",
    "# Check label distribution\n",
    "print(\"Train Labels:\", Counter(train_labels))\n",
    "print(\"Validation Labels:\", Counter(val_labels))"
   ]
  },
  {
   "cell_type": "code",
   "execution_count": null,
   "id": "469ad65b-2478-4582-bfc5-409c8eec26e2",
   "metadata": {},
   "outputs": [],
   "source": [
    "test_headlines = [\n",
    "    \"NASA Announces Launch Date for Artemis II Mission to the Moon\",\n",
    "    \"Scientists Confirm Earth Is Flat After Secret NASA Meeting\"\n",
    "]\n",
    "\n",
    "for headline in test_headlines:\n",
    "    result = predict_fake_news(headline)\n",
    "    print(f\"\\\"{headline}\\\" → {'Real' if result == 1 else 'Fake'}\")"
   ]
  },
  {
   "cell_type": "code",
   "execution_count": 1,
   "id": "ede43402-fed9-48ea-9953-772062783342",
   "metadata": {},
   "outputs": [
    {
     "name": "stdout",
     "output_type": "stream",
     "text": [
      "\n",
      " Testing Real Headlines:\n",
      "\n"
     ]
    },
    {
     "ename": "NameError",
     "evalue": "name 'predict_fake_news' is not defined",
     "output_type": "error",
     "traceback": [
      "\u001b[31m---------------------------------------------------------------------------\u001b[39m",
      "\u001b[31mNameError\u001b[39m                                 Traceback (most recent call last)",
      "\u001b[36mCell\u001b[39m\u001b[36m \u001b[39m\u001b[32mIn[1]\u001b[39m\u001b[32m, line 32\u001b[39m\n\u001b[32m     30\u001b[39m \u001b[38;5;28mprint\u001b[39m(\u001b[33mf\u001b[39m\u001b[33m\"\u001b[39m\u001b[38;5;130;01m\\n\u001b[39;00m\u001b[33m Testing \u001b[39m\u001b[38;5;132;01m{\u001b[39;00mlabel_type\u001b[38;5;132;01m}\u001b[39;00m\u001b[33m Headlines:\u001b[39m\u001b[38;5;130;01m\\n\u001b[39;00m\u001b[33m\"\u001b[39m)\n\u001b[32m     31\u001b[39m \u001b[38;5;28;01mfor\u001b[39;00m headline \u001b[38;5;129;01min\u001b[39;00m headlines:\n\u001b[32m---> \u001b[39m\u001b[32m32\u001b[39m     prediction = \u001b[43mpredict_fake_news\u001b[49m(headline)\n\u001b[32m     33\u001b[39m     predicted_label = \u001b[33m\"\u001b[39m\u001b[33mReal\u001b[39m\u001b[33m\"\u001b[39m \u001b[38;5;28;01mif\u001b[39;00m prediction == \u001b[32m1\u001b[39m \u001b[38;5;28;01melse\u001b[39;00m \u001b[33m\"\u001b[39m\u001b[33mFake\u001b[39m\u001b[33m\"\u001b[39m\n\u001b[32m     34\u001b[39m     \u001b[38;5;28mprint\u001b[39m(\u001b[33mf\u001b[39m\u001b[33m\"\u001b[39m\u001b[38;5;132;01m{\u001b[39;00mheadline\u001b[38;5;132;01m}\u001b[39;00m\u001b[38;5;130;01m\\n\u001b[39;00m\u001b[33m→ Predicted: \u001b[39m\u001b[38;5;132;01m{\u001b[39;00mpredicted_label\u001b[38;5;132;01m}\u001b[39;00m\u001b[38;5;130;01m\\n\u001b[39;00m\u001b[33m\"\u001b[39m)\n",
      "\u001b[31mNameError\u001b[39m: name 'predict_fake_news' is not defined"
     ]
    }
   ],
   "source": [
    "test_cases = {\n",
    "    \"Real\": [\n",
    "        \"World Health Organization Declares End to Global COVID-19 Emergency\",\n",
    "        \"Supreme Court Upholds Key Environmental Regulation on Clean Water\",\n",
    "        \"Apple Unveils New MacBook Pro with M3 Chip at Annual Event\",\n",
    "        \"U.S. Economy Adds 250,000 Jobs in March, Unemployment Steady at 3.8%\",\n",
    "        \"UNICEF Launches Campaign to Provide Clean Water in Sub-Saharan Africa\",\n",
    "        \"Biden Signs Bipartisan Infrastructure Bill into Law\",\n",
    "        \"Tesla Reports Record Q4 Revenue as EV Demand Surges\",\n",
    "        \"Olympics 2024 to Be Hosted in Paris with Enhanced Sustainability Focus\",\n",
    "        \"FDA Approves First Pill for Postpartum Depression\",\n",
    "        \"Japan Launches Lunar Probe in Historic Space Mission\"\n",
    "    ],\n",
    "    \"Fake\": [\n",
    "        \"Bill Gates Microchips Children Through Ice Cream Truck Distribution\",\n",
    "        \"Aliens Seen Voting in the U.S. Presidential Election, Eyewitness Claims\",\n",
    "        \"Scientists Discover That Dinosaurs Still Roam a Hidden Island in the Pacific\",\n",
    "        \"New Study Reveals Flat Earth is Supported by NASA Whistleblowers\",\n",
    "        \"COVID-19 Vaccines Found to Contain DNA of Extinct Species\",\n",
    "        \"Time Traveler from 2077 Arrested for Warning of Imminent Robot Uprising\",\n",
    "        \"FBI Confirms Bigfoot Involvement in Area 51 Breach\",\n",
    "        \"Government Admits Using Chemtrails to Control Weather and Minds\",\n",
    "        \"Man Grows WiFi Antenna in Arm After 5G Booster Shot\",\n",
    "        \"Queen Elizabeth Secretly Cloned in Underground Lab, Sources Say\"\n",
    "    ]\n",
    "}\n",
    "\n",
    "# Run predictions\n",
    "for label_type, headlines in test_cases.items():\n",
    "    print(f\"\\n Testing {label_type} Headlines:\\n\")\n",
    "    for headline in headlines:\n",
    "        prediction = predict_fake_news(headline)\n",
    "        predicted_label = \"Real\" if prediction == 1 else \"Fake\"\n",
    "        print(f\"{headline}\\n→ Predicted: {predicted_label}\\n\")\n"
   ]
  },
  {
   "cell_type": "code",
   "execution_count": null,
   "id": "4bb4028b-2e85-45df-9b09-f287a828a0f7",
   "metadata": {},
   "outputs": [],
   "source": [
    "model.save_pretrained(\"fake_news_bert_model_full_freeze\")\n",
    "tokenizer.save_pretrained(\"fake_news_bert_model_full_freeze\")"
   ]
  },
  {
   "cell_type": "code",
   "execution_count": null,
   "id": "1c4b55a2-663a-4dfd-af9b-b74cb7736d78",
   "metadata": {},
   "outputs": [],
   "source": []
  }
 ],
 "metadata": {
  "kernelspec": {
   "display_name": "Python 3 (ipykernel)",
   "language": "python",
   "name": "python3"
  },
  "language_info": {
   "codemirror_mode": {
    "name": "ipython",
    "version": 3
   },
   "file_extension": ".py",
   "mimetype": "text/x-python",
   "name": "python",
   "nbconvert_exporter": "python",
   "pygments_lexer": "ipython3",
   "version": "3.13.3"
  }
 },
 "nbformat": 4,
 "nbformat_minor": 5
}
